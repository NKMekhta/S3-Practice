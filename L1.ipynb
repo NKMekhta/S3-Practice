{
 "cells": [
  {
   "cell_type": "markdown",
   "id": "6293cc50",
   "metadata": {},
   "source": [
    "# 100 numpy exercises\n",
    "\n",
    "This is a collection of exercises that have been collected in the numpy mailing list, on stack overflow\n",
    "and in the numpy documentation. The goal of this collection is to offer a quick reference for both old\n",
    "and new users but also to provide a set of exercises for those who teach.\n",
    "\n",
    "\n",
    "If you find an error or think you've a better way to solve some of them, feel\n",
    "free to open an issue at <https://github.com/rougier/numpy-100>."
   ]
  },
  {
   "cell_type": "markdown",
   "id": "a167c052",
   "metadata": {},
   "source": [
    "File automatically generated. See the documentation to update questions/answers/hints programmatically."
   ]
  },
  {
   "cell_type": "markdown",
   "id": "57fc0ee5",
   "metadata": {},
   "source": [
    "Run the `initialize.py` module, then for each question you can query the\n",
    "answer or an hint with `hint(n)` or `answer(n)` for `n` question number."
   ]
  },
  {
   "cell_type": "code",
   "execution_count": null,
   "id": "3d46fba2",
   "metadata": {},
   "outputs": [],
   "source": [
    "%run './initialise.py'"
   ]
  },
  {
   "cell_type": "markdown",
   "id": "3c1222ff",
   "metadata": {},
   "source": [
    "#### 1. Import the numpy package under the name `np` (★☆☆)"
   ]
  },
  {
   "cell_type": "code",
   "execution_count": 2,
   "id": "f52e6a0b",
   "metadata": {},
   "outputs": [],
   "source": [
    "import numpy as np"
   ]
  },
  {
   "cell_type": "markdown",
   "id": "9d9f4753",
   "metadata": {},
   "source": [
    "#### 2. Print the numpy version and the configuration (★☆☆)"
   ]
  },
  {
   "cell_type": "code",
   "execution_count": 4,
   "id": "b7fa5fa1",
   "metadata": {},
   "outputs": [
    {
     "name": "stdout",
     "output_type": "stream",
     "text": [
      "Version: 1.24.3\n",
      "Config:\n",
      "blas_armpl_info:\n",
      "  NOT AVAILABLE\n",
      "blas_mkl_info:\n",
      "  NOT AVAILABLE\n",
      "blis_info:\n",
      "  NOT AVAILABLE\n",
      "openblas_info:\n",
      "  NOT AVAILABLE\n",
      "accelerate_info:\n",
      "  NOT AVAILABLE\n",
      "atlas_3_10_blas_threads_info:\n",
      "  NOT AVAILABLE\n",
      "atlas_3_10_blas_info:\n",
      "  NOT AVAILABLE\n",
      "atlas_blas_threads_info:\n",
      "  NOT AVAILABLE\n",
      "atlas_blas_info:\n",
      "  NOT AVAILABLE\n",
      "blas_info:\n",
      "    libraries = ['cblas', 'blas', 'blas']\n",
      "    library_dirs = ['/usr/lib64']\n",
      "    include_dirs = ['/usr/local/include']\n",
      "    language = c\n",
      "    define_macros = [('HAVE_CBLAS', None)]\n",
      "blas_opt_info:\n",
      "    define_macros = [('NO_ATLAS_INFO', 1), ('HAVE_CBLAS', None)]\n",
      "    libraries = ['cblas', 'blas', 'blas']\n",
      "    library_dirs = ['/usr/lib64']\n",
      "    include_dirs = ['/usr/local/include']\n",
      "    language = c\n",
      "lapack_armpl_info:\n",
      "  NOT AVAILABLE\n",
      "lapack_mkl_info:\n",
      "  NOT AVAILABLE\n",
      "openblas_lapack_info:\n",
      "  NOT AVAILABLE\n",
      "openblas_clapack_info:\n",
      "  NOT AVAILABLE\n",
      "flame_info:\n",
      "  NOT AVAILABLE\n",
      "atlas_3_10_threads_info:\n",
      "  NOT AVAILABLE\n",
      "atlas_3_10_info:\n",
      "  NOT AVAILABLE\n",
      "atlas_threads_info:\n",
      "  NOT AVAILABLE\n",
      "atlas_info:\n",
      "  NOT AVAILABLE\n",
      "lapack_info:\n",
      "    libraries = ['lapack', 'lapack']\n",
      "    library_dirs = ['/usr/lib64']\n",
      "    language = f77\n",
      "lapack_opt_info:\n",
      "    libraries = ['lapack', 'lapack', 'cblas', 'blas', 'blas']\n",
      "    library_dirs = ['/usr/lib64']\n",
      "    language = c\n",
      "    define_macros = [('NO_ATLAS_INFO', 1), ('HAVE_CBLAS', None)]\n",
      "    include_dirs = ['/usr/local/include']\n",
      "Supported SIMD extensions in this NumPy install:\n",
      "    baseline = SSE,SSE2,SSE3\n",
      "    found = SSSE3,SSE41,POPCNT,SSE42,AVX,F16C,FMA3,AVX2\n",
      "    not found = AVX512F,AVX512CD,AVX512_SKX,AVX512_CLX,AVX512_CNL,AVX512_ICL\n"
     ]
    }
   ],
   "source": [
    "print(f'Version: {np.__version__}')\n",
    "print('Config:')\n",
    "np.show_config()"
   ]
  },
  {
   "cell_type": "markdown",
   "id": "3e4c23c6",
   "metadata": {},
   "source": [
    "#### 3. Create a null vector of size 10 (★☆☆)"
   ]
  },
  {
   "cell_type": "code",
   "execution_count": 5,
   "id": "083c5c46",
   "metadata": {},
   "outputs": [
    {
     "data": {
      "text/plain": [
       "array([0., 0., 0., 0., 0., 0., 0., 0., 0., 0.])"
      ]
     },
     "execution_count": 5,
     "metadata": {},
     "output_type": "execute_result"
    }
   ],
   "source": [
    "np.zeros(10)"
   ]
  },
  {
   "cell_type": "markdown",
   "id": "c38bbe82",
   "metadata": {},
   "source": [
    "#### 4. How to find the memory size of any array (★☆☆)"
   ]
  },
  {
   "cell_type": "code",
   "execution_count": 6,
   "id": "02b04021",
   "metadata": {},
   "outputs": [
    {
     "name": "stdout",
     "output_type": "stream",
     "text": [
      "80 B\n"
     ]
    }
   ],
   "source": [
    "v = np.zeros(10)\n",
    "print(f\"{v.size * v.itemsize} B\")"
   ]
  },
  {
   "cell_type": "markdown",
   "id": "67f893d4",
   "metadata": {},
   "source": [
    "#### 5. How to get the documentation of the numpy add function from the command line? (★☆☆)"
   ]
  },
  {
   "cell_type": "code",
   "execution_count": 11,
   "id": "40e6b70d",
   "metadata": {},
   "outputs": [
    {
     "name": "stdout",
     "output_type": "stream",
     "text": [
      "add(x1, x2, /, out=None, *, where=True, casting='same_kind', order='K', dtype=None, subok=True[, signature, extobj])\n",
      "\n",
      "Add arguments element-wise.\n",
      "\n",
      "Parameters\n",
      "----------\n",
      "x1, x2 : array_like\n",
      "    The arrays to be added.\n",
      "    If ``x1.shape != x2.shape``, they must be broadcastable to a common\n",
      "    shape (which becomes the shape of the output).\n",
      "out : ndarray, None, or tuple of ndarray and None, optional\n",
      "    A location into which the result is stored. If provided, it must have\n",
      "    a shape that the inputs broadcast to. If not provided or None,\n",
      "    a freshly-allocated array is returned. A tuple (possible only as a\n",
      "    keyword argument) must have length equal to the number of outputs.\n",
      "where : array_like, optional\n",
      "    This condition is broadcast over the input. At locations where the\n",
      "    condition is True, the `out` array will be set to the ufunc result.\n",
      "    Elsewhere, the `out` array will retain its original value.\n",
      "    Note that if an uninitialized `out` array is created via the default\n",
      "    ``out=None``, locations within it where the condition is False will\n",
      "    remain uninitialized.\n",
      "**kwargs\n",
      "    For other keyword-only arguments, see the\n",
      "    :ref:`ufunc docs <ufuncs.kwargs>`.\n",
      "\n",
      "Returns\n",
      "-------\n",
      "add : ndarray or scalar\n",
      "    The sum of `x1` and `x2`, element-wise.\n",
      "    This is a scalar if both `x1` and `x2` are scalars.\n",
      "\n",
      "Notes\n",
      "-----\n",
      "Equivalent to `x1` + `x2` in terms of array broadcasting.\n",
      "\n",
      "Examples\n",
      "--------\n",
      ">>> np.add(1.0, 4.0)\n",
      "5.0\n",
      ">>> x1 = np.arange(9.0).reshape((3, 3))\n",
      ">>> x2 = np.arange(3.0)\n",
      ">>> np.add(x1, x2)\n",
      "array([[  0.,   2.,   4.],\n",
      "       [  3.,   5.,   7.],\n",
      "       [  6.,   8.,  10.]])\n",
      "\n",
      "The ``+`` operator can be used as a shorthand for ``np.add`` on ndarrays.\n",
      "\n",
      ">>> x1 = np.arange(9.0).reshape((3, 3))\n",
      ">>> x2 = np.arange(3.0)\n",
      ">>> x1 + x2\n",
      "array([[ 0.,  2.,  4.],\n",
      "       [ 3.,  5.,  7.],\n",
      "       [ 6.,  8., 10.]])\n"
     ]
    }
   ],
   "source": [
    "!python3 -c `import numpy; numpy.info(numpy.add)`"
   ]
  },
  {
   "cell_type": "code",
   "execution_count": 14,
   "id": "28467b99-3c8d-453d-a12f-552a154b2793",
   "metadata": {},
   "outputs": [],
   "source": [
    "#### 6. Create a null vector of size 10 but the fifth value which is 1 (★☆☆)"
   ]
  },
  {
   "cell_type": "code",
   "execution_count": 17,
   "id": "bcceacf7",
   "metadata": {},
   "outputs": [
    {
     "data": {
      "text/plain": [
       "array([0., 0., 0., 0., 1., 0., 0., 0., 0., 0.])"
      ]
     },
     "execution_count": 17,
     "metadata": {},
     "output_type": "execute_result"
    }
   ],
   "source": [
    "v = np.zeros(10)\n",
    "v[4] = 1\n",
    "v"
   ]
  },
  {
   "cell_type": "markdown",
   "id": "fbebedab",
   "metadata": {},
   "source": [
    "#### 7. Create a vector with values ranging from 10 to 49 (★☆☆)"
   ]
  },
  {
   "cell_type": "code",
   "execution_count": 16,
   "id": "3d117d54",
   "metadata": {},
   "outputs": [
    {
     "data": {
      "text/plain": [
       "array([10, 11, 12, 13, 14, 15, 16, 17, 18, 19, 20, 21, 22, 23, 24, 25, 26,\n",
       "       27, 28, 29, 30, 31, 32, 33, 34, 35, 36, 37, 38, 39, 40, 41, 42, 43,\n",
       "       44, 45, 46, 47, 48, 49, 50, 51, 52, 53, 54, 55, 56, 57, 58])"
      ]
     },
     "execution_count": 16,
     "metadata": {},
     "output_type": "execute_result"
    }
   ],
   "source": [
    "v = np.arange(10, 59)\n",
    "v"
   ]
  },
  {
   "cell_type": "markdown",
   "id": "ad0bff02",
   "metadata": {},
   "source": [
    "#### 8. Reverse a vector (first element becomes last) (★☆☆)"
   ]
  },
  {
   "cell_type": "code",
   "execution_count": 18,
   "id": "22d23470",
   "metadata": {},
   "outputs": [
    {
     "data": {
      "text/plain": [
       "array([0., 0., 0., 0., 0., 1., 0., 0., 0., 0.])"
      ]
     },
     "execution_count": 18,
     "metadata": {},
     "output_type": "execute_result"
    }
   ],
   "source": [
    "v[::-1]"
   ]
  },
  {
   "cell_type": "markdown",
   "id": "9f59d7e1",
   "metadata": {},
   "source": [
    "#### 9. Create a 3x3 matrix with values ranging from 0 to 8 (★☆☆)"
   ]
  },
  {
   "cell_type": "code",
   "execution_count": 19,
   "id": "7449e82d",
   "metadata": {},
   "outputs": [
    {
     "data": {
      "text/plain": [
       "array([[0, 1, 2],\n",
       "       [3, 4, 5],\n",
       "       [6, 7, 8]])"
      ]
     },
     "execution_count": 19,
     "metadata": {},
     "output_type": "execute_result"
    }
   ],
   "source": [
    "np.arange(9).reshape(3, 3)"
   ]
  },
  {
   "cell_type": "markdown",
   "id": "f374c4cf",
   "metadata": {},
   "source": [
    "#### 10. Find indices of non-zero elements from [1,2,0,0,4,0] (★☆☆)"
   ]
  },
  {
   "cell_type": "code",
   "execution_count": 20,
   "id": "1a84bed8",
   "metadata": {},
   "outputs": [
    {
     "data": {
      "text/plain": [
       "(array([0, 1, 4]),)"
      ]
     },
     "execution_count": 20,
     "metadata": {},
     "output_type": "execute_result"
    }
   ],
   "source": [
    "np.nonzero([1,2,0,0,4,0])"
   ]
  },
  {
   "cell_type": "markdown",
   "id": "9c4707f5",
   "metadata": {},
   "source": [
    "#### 11. Create a 3x3 identity matrix (★☆☆)"
   ]
  },
  {
   "cell_type": "code",
   "execution_count": 21,
   "id": "29dc1fd3",
   "metadata": {},
   "outputs": [
    {
     "data": {
      "text/plain": [
       "array([[1., 0., 0.],\n",
       "       [0., 1., 0.],\n",
       "       [0., 0., 1.]])"
      ]
     },
     "execution_count": 21,
     "metadata": {},
     "output_type": "execute_result"
    }
   ],
   "source": [
    "np.eye(3)"
   ]
  },
  {
   "cell_type": "markdown",
   "id": "3bac294a",
   "metadata": {},
   "source": [
    "#### 12. Create a 3x3x3 array with random values (★☆☆)"
   ]
  },
  {
   "cell_type": "code",
   "execution_count": 22,
   "id": "eadfae67",
   "metadata": {},
   "outputs": [
    {
     "data": {
      "text/plain": [
       "array([[[0.73704011, 0.58067429, 0.95093309],\n",
       "        [0.65367737, 0.74201415, 0.98150139],\n",
       "        [0.57018849, 0.30233983, 0.33167857]],\n",
       "\n",
       "       [[0.4563723 , 0.27647823, 0.39444012],\n",
       "        [0.84922295, 0.93235406, 0.63898883],\n",
       "        [0.08713589, 0.70399402, 0.60258158]],\n",
       "\n",
       "       [[0.95942506, 0.33174019, 0.59346288],\n",
       "        [0.09088884, 0.26507194, 0.52325804],\n",
       "        [0.14418485, 0.39321849, 0.75411709]]])"
      ]
     },
     "execution_count": 22,
     "metadata": {},
     "output_type": "execute_result"
    }
   ],
   "source": [
    "np.random.random((3,3,3))"
   ]
  },
  {
   "cell_type": "markdown",
   "id": "466c2989",
   "metadata": {},
   "source": [
    "#### 13. Create a 10x10 array with random values and find the minimum and maximum values (★☆☆)"
   ]
  },
  {
   "cell_type": "code",
   "execution_count": 27,
   "id": "9a74dbfc",
   "metadata": {},
   "outputs": [
    {
     "data": {
      "text/plain": [
       "'m.min()=0.0009618446775485623 m.max()=0.983202624351314'"
      ]
     },
     "execution_count": 27,
     "metadata": {},
     "output_type": "execute_result"
    }
   ],
   "source": [
    "m = np.random.random((10,10))\n",
    "f\"{m.min()=} {m.max()=}\""
   ]
  },
  {
   "cell_type": "markdown",
   "id": "53a8edb2",
   "metadata": {},
   "source": [
    "#### 14. Create a random vector of size 30 and find the mean value (★☆☆)"
   ]
  },
  {
   "cell_type": "code",
   "execution_count": 28,
   "id": "6691530b",
   "metadata": {},
   "outputs": [
    {
     "data": {
      "text/plain": [
       "0.5450221619072209"
      ]
     },
     "execution_count": 28,
     "metadata": {},
     "output_type": "execute_result"
    }
   ],
   "source": [
    "np.random.random(30).mean()"
   ]
  },
  {
   "cell_type": "markdown",
   "id": "cbaad31c",
   "metadata": {},
   "source": [
    "#### 15. Create a 2d array with 1 on the border and 0 inside (★☆☆)"
   ]
  },
  {
   "cell_type": "code",
   "execution_count": 32,
   "id": "ad8308e3",
   "metadata": {},
   "outputs": [
    {
     "data": {
      "text/plain": [
       "array([[1., 1., 1., 1., 1., 1., 1., 1., 1., 1.],\n",
       "       [1., 0., 0., 0., 0., 0., 0., 0., 0., 1.],\n",
       "       [1., 0., 0., 0., 0., 0., 0., 0., 0., 1.],\n",
       "       [1., 0., 0., 0., 0., 0., 0., 0., 0., 1.],\n",
       "       [1., 0., 0., 0., 0., 0., 0., 0., 0., 1.],\n",
       "       [1., 0., 0., 0., 0., 0., 0., 0., 0., 1.],\n",
       "       [1., 0., 0., 0., 0., 0., 0., 0., 0., 1.],\n",
       "       [1., 0., 0., 0., 0., 0., 0., 0., 0., 1.],\n",
       "       [1., 0., 0., 0., 0., 0., 0., 0., 0., 1.],\n",
       "       [1., 1., 1., 1., 1., 1., 1., 1., 1., 1.]])"
      ]
     },
     "execution_count": 32,
     "metadata": {},
     "output_type": "execute_result"
    }
   ],
   "source": [
    "m = np.ones((10,10))\n",
    "m[1:-1,1:-1] = 0\n",
    "m"
   ]
  },
  {
   "cell_type": "markdown",
   "id": "c5ecc267",
   "metadata": {},
   "source": [
    "#### 16. How to add a border (filled with 0's) around an existing array? (★☆☆)"
   ]
  },
  {
   "cell_type": "code",
   "execution_count": 33,
   "id": "9d5c78c4",
   "metadata": {},
   "outputs": [
    {
     "data": {
      "text/plain": [
       "array([[0., 0., 0., 0., 0., 0., 0., 0., 0., 0., 0., 0.],\n",
       "       [0., 1., 1., 1., 1., 1., 1., 1., 1., 1., 1., 0.],\n",
       "       [0., 1., 0., 0., 0., 0., 0., 0., 0., 0., 1., 0.],\n",
       "       [0., 1., 0., 0., 0., 0., 0., 0., 0., 0., 1., 0.],\n",
       "       [0., 1., 0., 0., 0., 0., 0., 0., 0., 0., 1., 0.],\n",
       "       [0., 1., 0., 0., 0., 0., 0., 0., 0., 0., 1., 0.],\n",
       "       [0., 1., 0., 0., 0., 0., 0., 0., 0., 0., 1., 0.],\n",
       "       [0., 1., 0., 0., 0., 0., 0., 0., 0., 0., 1., 0.],\n",
       "       [0., 1., 0., 0., 0., 0., 0., 0., 0., 0., 1., 0.],\n",
       "       [0., 1., 0., 0., 0., 0., 0., 0., 0., 0., 1., 0.],\n",
       "       [0., 1., 1., 1., 1., 1., 1., 1., 1., 1., 1., 0.],\n",
       "       [0., 0., 0., 0., 0., 0., 0., 0., 0., 0., 0., 0.]])"
      ]
     },
     "execution_count": 33,
     "metadata": {},
     "output_type": "execute_result"
    }
   ],
   "source": [
    "np.pad(m, pad_width=1, mode='constant', constant_values=0)"
   ]
  },
  {
   "cell_type": "markdown",
   "id": "ef909b72",
   "metadata": {},
   "source": [
    "#### 17. What is the result of the following expression? (★☆☆)\n",
    "```python\n",
    "0 * np.nan\n",
    "np.nan == np.nan\n",
    "np.inf > np.nan\n",
    "np.nan - np.nan\n",
    "np.nan in set([np.nan])\n",
    "0.3 == 3 * 0.1\n",
    "```"
   ]
  },
  {
   "cell_type": "code",
   "execution_count": 35,
   "id": "3b4985f2",
   "metadata": {},
   "outputs": [
    {
     "data": {
      "text/plain": [
       "(nan, False, False, nan, True, False)"
      ]
     },
     "execution_count": 35,
     "metadata": {},
     "output_type": "execute_result"
    }
   ],
   "source": [
    "(\n",
    "    0 * np.nan,\n",
    "    np.nan == np.nan,\n",
    "    np.inf > np.nan,\n",
    "    np.nan - np.nan,\n",
    "    np.nan in set([np.nan]),\n",
    "    0.3 == 3 * 0.1,\n",
    ")"
   ]
  },
  {
   "cell_type": "markdown",
   "id": "502738ac",
   "metadata": {},
   "source": [
    "#### 18. Create a 5x5 matrix with values 1,2,3,4 just below the diagonal (★☆☆)"
   ]
  },
  {
   "cell_type": "code",
   "execution_count": 37,
   "id": "faed6e2b",
   "metadata": {},
   "outputs": [
    {
     "data": {
      "text/plain": [
       "array([[0, 0, 0, 0, 0],\n",
       "       [1, 0, 0, 0, 0],\n",
       "       [0, 2, 0, 0, 0],\n",
       "       [0, 0, 3, 0, 0],\n",
       "       [0, 0, 0, 4, 0]])"
      ]
     },
     "execution_count": 37,
     "metadata": {},
     "output_type": "execute_result"
    }
   ],
   "source": [
    "np.diag(np.arange(1, 5), k=-1)"
   ]
  },
  {
   "cell_type": "markdown",
   "id": "a65da660",
   "metadata": {},
   "source": [
    "#### 19. Create a 8x8 matrix and fill it with a checkerboard pattern (★☆☆)"
   ]
  },
  {
   "cell_type": "code",
   "execution_count": 40,
   "id": "ed150400",
   "metadata": {},
   "outputs": [
    {
     "data": {
      "text/plain": [
       "array([[1., 0., 1., 0., 1., 0., 1., 0.],\n",
       "       [0., 1., 0., 1., 0., 1., 0., 1.],\n",
       "       [1., 0., 1., 0., 1., 0., 1., 0.],\n",
       "       [0., 1., 0., 1., 0., 1., 0., 1.],\n",
       "       [1., 0., 1., 0., 1., 0., 1., 0.],\n",
       "       [0., 1., 0., 1., 0., 1., 0., 1.],\n",
       "       [1., 0., 1., 0., 1., 0., 1., 0.],\n",
       "       [0., 1., 0., 1., 0., 1., 0., 1.]])"
      ]
     },
     "execution_count": 40,
     "metadata": {},
     "output_type": "execute_result"
    }
   ],
   "source": [
    "v = np.zeros((8,8))\n",
    "v[::2, ::2] = 1\n",
    "v[1::2, 1::2] = 1\n",
    "v"
   ]
  },
  {
   "cell_type": "markdown",
   "id": "9f7f9c49",
   "metadata": {},
   "source": [
    "#### 20. Consider a (6,7,8) shape array, what is the index (x,y,z) of the 100th element? (★☆☆)"
   ]
  },
  {
   "cell_type": "code",
   "execution_count": 41,
   "id": "3782b5a9",
   "metadata": {},
   "outputs": [
    {
     "data": {
      "text/plain": [
       "(1, 5, 3)"
      ]
     },
     "execution_count": 41,
     "metadata": {},
     "output_type": "execute_result"
    }
   ],
   "source": [
    "np.unravel_index(99,(6,7,8))"
   ]
  },
  {
   "cell_type": "markdown",
   "id": "66bfda35",
   "metadata": {},
   "source": [
    "#### 21. Create a checkerboard 8x8 matrix using the tile function (★☆☆)"
   ]
  },
  {
   "cell_type": "code",
   "execution_count": 44,
   "id": "4c07477c",
   "metadata": {},
   "outputs": [
    {
     "data": {
      "text/plain": [
       "array([[1, 0, 1, 0, 1, 0, 1, 0],\n",
       "       [0, 1, 0, 1, 0, 1, 0, 1],\n",
       "       [1, 0, 1, 0, 1, 0, 1, 0],\n",
       "       [0, 1, 0, 1, 0, 1, 0, 1],\n",
       "       [1, 0, 1, 0, 1, 0, 1, 0],\n",
       "       [0, 1, 0, 1, 0, 1, 0, 1],\n",
       "       [1, 0, 1, 0, 1, 0, 1, 0],\n",
       "       [0, 1, 0, 1, 0, 1, 0, 1]])"
      ]
     },
     "execution_count": 44,
     "metadata": {},
     "output_type": "execute_result"
    }
   ],
   "source": [
    "np.tile(\n",
    "    np.array([\n",
    "        [1, 0], \n",
    "        [0, 1]\n",
    "    ]), \n",
    "    (4, 4)\n",
    ")"
   ]
  },
  {
   "cell_type": "markdown",
   "id": "d5bcfc08",
   "metadata": {},
   "source": [
    "#### 22. Normalize a 5x5 random matrix (★☆☆)"
   ]
  },
  {
   "cell_type": "code",
   "execution_count": 45,
   "id": "cea6c993",
   "metadata": {},
   "outputs": [
    {
     "data": {
      "text/plain": [
       "array([[-1.3569801 ,  0.41306057, -0.01387643, -0.03072543,  0.81727538],\n",
       "       [-0.61399211,  1.60671383, -1.43250818,  0.51213991, -1.05586529],\n",
       "       [ 0.66324821,  0.71686744, -0.64512302, -1.4380494 ,  0.74598781],\n",
       "       [-1.91149181, -1.82438349,  0.57024433,  0.68964017,  1.18091925],\n",
       "       [ 0.40326522,  0.92058339,  0.91590672,  0.75298652, -0.58584348]])"
      ]
     },
     "execution_count": 45,
     "metadata": {},
     "output_type": "execute_result"
    }
   ],
   "source": [
    "m = np.random.random((5,5))\n",
    "(m - np.mean(m)) / np.std(m)"
   ]
  },
  {
   "cell_type": "markdown",
   "id": "f9a0911e",
   "metadata": {},
   "source": [
    "#### 23. Create a custom dtype that describes a color as four unsigned bytes (RGBA) (★☆☆)"
   ]
  },
  {
   "cell_type": "code",
   "execution_count": 46,
   "id": "d165044b",
   "metadata": {},
   "outputs": [
    {
     "data": {
      "text/plain": [
       "dtype([('r', 'u1'), ('g', 'u1'), ('b', 'u1'), ('a', 'u1')])"
      ]
     },
     "execution_count": 46,
     "metadata": {},
     "output_type": "execute_result"
    }
   ],
   "source": [
    "np.dtype([\n",
    "    (\"r\", np.ubyte),\n",
    "    (\"g\", np.ubyte),\n",
    "    (\"b\", np.ubyte),\n",
    "    (\"a\", np.ubyte)\n",
    "])"
   ]
  },
  {
   "cell_type": "markdown",
   "id": "654805b1",
   "metadata": {},
   "source": [
    "#### 24. Multiply a 5x3 matrix by a 3x2 matrix (real matrix product) (★☆☆)"
   ]
  },
  {
   "cell_type": "code",
   "execution_count": 48,
   "id": "6a42619f",
   "metadata": {},
   "outputs": [
    {
     "data": {
      "text/plain": [
       "array([[3., 3.],\n",
       "       [3., 3.],\n",
       "       [3., 3.],\n",
       "       [3., 3.],\n",
       "       [3., 3.]])"
      ]
     },
     "execution_count": 48,
     "metadata": {},
     "output_type": "execute_result"
    }
   ],
   "source": [
    "np.ones((5, 3)) @ np.ones((3, 2))"
   ]
  },
  {
   "cell_type": "markdown",
   "id": "994c25df",
   "metadata": {},
   "source": [
    "#### 25. Given a 1D array, negate all elements which are between 3 and 8, in place. (★☆☆)"
   ]
  },
  {
   "cell_type": "code",
   "execution_count": 51,
   "id": "e4b39c03",
   "metadata": {},
   "outputs": [
    {
     "data": {
      "text/plain": [
       "array([ 1,  2,  3, -4, -5, -6, -7,  8,  9, 10])"
      ]
     },
     "execution_count": 51,
     "metadata": {},
     "output_type": "execute_result"
    }
   ],
   "source": [
    "v = np.arange(1, 11)\n",
    "v[(3 < v) & (v < 8)] *= -1\n",
    "v"
   ]
  },
  {
   "cell_type": "markdown",
   "id": "b7d15d1a",
   "metadata": {},
   "source": [
    "#### 26. What is the output of the following script? (★☆☆)\n",
    "```python\n",
    "# Author: Jake VanderPlas\n",
    "\n",
    "print(sum(range(5),-1))\n",
    "from numpy import *\n",
    "print(sum(range(5),-1))\n",
    "```"
   ]
  },
  {
   "cell_type": "code",
   "execution_count": 52,
   "id": "4c95bc3f",
   "metadata": {},
   "outputs": [
    {
     "name": "stdout",
     "output_type": "stream",
     "text": [
      "9\n",
      "10\n"
     ]
    }
   ],
   "source": [
    "print(sum(range(5),-1))\n",
    "from numpy import *\n",
    "print(sum(range(5),-1))"
   ]
  },
  {
   "cell_type": "markdown",
   "id": "a34f0d08",
   "metadata": {},
   "source": [
    "#### 27. Consider an integer vector Z, which of these expressions are legal? (★☆☆)\n",
    "```python\n",
    "Z**Z\n",
    "2 << Z >> 2\n",
    "Z <- Z\n",
    "1j*Z\n",
    "Z/1/1\n",
    "Z<Z>Z\n",
    "```"
   ]
  },
  {
   "cell_type": "code",
   "execution_count": 61,
   "id": "564658fc",
   "metadata": {},
   "outputs": [
    {
     "data": {
      "text/plain": [
       "(array([        1,         1,         4,        27,       256,      3125,\n",
       "            46656,    823543,  16777216, 387420489]),\n",
       " array([  0,   1,   2,   4,   8,  16,  32,  64, 128, 256]),\n",
       " array([False, False, False, False, False, False, False, False, False,\n",
       "        False]),\n",
       " array([0.+0.j, 0.+1.j, 0.+2.j, 0.+3.j, 0.+4.j, 0.+5.j, 0.+6.j, 0.+7.j,\n",
       "        0.+8.j, 0.+9.j]),\n",
       " array([0., 1., 2., 3., 4., 5., 6., 7., 8., 9.]))"
      ]
     },
     "execution_count": 61,
     "metadata": {},
     "output_type": "execute_result"
    }
   ],
   "source": [
    "Z = np.arange(0, 10)\n",
    "(\n",
    "    Z**Z,\n",
    "    2 << Z >> 2,\n",
    "    Z <- Z,\n",
    "    1j * Z,\n",
    "    Z / 1 / 1,\n",
    ")\n"
   ]
  },
  {
   "cell_type": "markdown",
   "id": "c34e94bf",
   "metadata": {},
   "source": [
    "#### 28. What are the result of the following expressions? (★☆☆)\n",
    "```python\n",
    "np.array(0) / np.array(0)\n",
    "np.array(0) // np.array(0)\n",
    "np.array([np.nan]).astype(int).astype(float)\n",
    "```"
   ]
  },
  {
   "cell_type": "code",
   "execution_count": 62,
   "id": "56663562",
   "metadata": {},
   "outputs": [
    {
     "name": "stderr",
     "output_type": "stream",
     "text": [
      "/tmp/ipykernel_1422122/548293649.py:1: RuntimeWarning: invalid value encountered in divide\n",
      "  np.array(0) / np.array(0)\n",
      "/tmp/ipykernel_1422122/548293649.py:2: RuntimeWarning: divide by zero encountered in floor_divide\n",
      "  np.array(0) // np.array(0)\n",
      "/tmp/ipykernel_1422122/548293649.py:3: RuntimeWarning: invalid value encountered in cast\n",
      "  np.array([np.nan]).astype(int).astype(float)\n"
     ]
    },
    {
     "data": {
      "text/plain": [
       "array([-9.22337204e+18])"
      ]
     },
     "execution_count": 62,
     "metadata": {},
     "output_type": "execute_result"
    }
   ],
   "source": [
    "np.array(0) / np.array(0)\n",
    "np.array(0) // np.array(0)\n",
    "np.array([np.nan]).astype(int).astype(float)"
   ]
  },
  {
   "cell_type": "markdown",
   "id": "546f5e7b",
   "metadata": {},
   "source": [
    "#### 29. How to round away from zero a float array ? (★☆☆)"
   ]
  },
  {
   "cell_type": "code",
   "execution_count": 67,
   "id": "f725a6d2",
   "metadata": {},
   "outputs": [
    {
     "data": {
      "text/plain": [
       "array([2., 2., 1., 2., 3.])"
      ]
     },
     "execution_count": 67,
     "metadata": {},
     "output_type": "execute_result"
    }
   ],
   "source": [
    "v = np.random.random((5)) * 5\n",
    "np.where(v > 0, np.ceil(v), np.floor(v))"
   ]
  },
  {
   "cell_type": "markdown",
   "id": "eadca856",
   "metadata": {},
   "source": [
    "#### 30. How to find common values between two arrays? (★☆☆)"
   ]
  },
  {
   "cell_type": "code",
   "execution_count": 74,
   "id": "e0270b5b",
   "metadata": {},
   "outputs": [
    {
     "name": "stdout",
     "output_type": "stream",
     "text": [
      "[ 5  9 14 16 17 19]\n"
     ]
    }
   ],
   "source": [
    "v1 = np.random.randint(0, 20, 20)\n",
    "v2 = np.random.randint(0, 20, 20)\n",
    "print(np.intersect1d(v1,v2))"
   ]
  },
  {
   "cell_type": "markdown",
   "id": "ca16ca22",
   "metadata": {},
   "source": [
    "#### 31. How to ignore all numpy warnings (not recommended)? (★☆☆)"
   ]
  },
  {
   "cell_type": "code",
   "execution_count": 77,
   "id": "7d7208ef",
   "metadata": {},
   "outputs": [],
   "source": [
    "with np.errstate(all=\"ignore\"):\n",
    "    ..."
   ]
  },
  {
   "cell_type": "markdown",
   "id": "c7871d0d",
   "metadata": {},
   "source": [
    "#### 32. Is the following expressions true? (★☆☆)\n",
    "```python\n",
    "np.sqrt(-1) == np.emath.sqrt(-1)\n",
    "```"
   ]
  },
  {
   "cell_type": "code",
   "execution_count": 78,
   "id": "acc3701a",
   "metadata": {},
   "outputs": [
    {
     "name": "stderr",
     "output_type": "stream",
     "text": [
      "/tmp/ipykernel_1422122/244602691.py:1: RuntimeWarning: invalid value encountered in sqrt\n",
      "  np.sqrt(-1) == np.emath.sqrt(-1)\n"
     ]
    },
    {
     "data": {
      "text/plain": [
       "False"
      ]
     },
     "execution_count": 78,
     "metadata": {},
     "output_type": "execute_result"
    }
   ],
   "source": [
    "np.sqrt(-1) == np.emath.sqrt(-1)"
   ]
  },
  {
   "cell_type": "markdown",
   "id": "e0433e30",
   "metadata": {},
   "source": [
    "#### 33. How to get the dates of yesterday, today and tomorrow? (★☆☆)"
   ]
  },
  {
   "cell_type": "code",
   "execution_count": 83,
   "id": "9c4d2152",
   "metadata": {},
   "outputs": [],
   "source": [
    "dates = (\n",
    "    np.datetime64('today') - np.timedelta64(1),\n",
    "    np.datetime64('today'),\n",
    "    np.datetime64('today') + np.timedelta64(1),\n",
    ")"
   ]
  },
  {
   "cell_type": "markdown",
   "id": "9f52a2ef",
   "metadata": {},
   "source": [
    "#### 34. How to get all the dates corresponding to the month of July 2016? (★★☆)"
   ]
  },
  {
   "cell_type": "code",
   "execution_count": 84,
   "id": "d6c34dec",
   "metadata": {},
   "outputs": [],
   "source": [
    "dates = np.arange('2016-07', '2016-08', dtype='datetime64[D]')"
   ]
  },
  {
   "cell_type": "markdown",
   "id": "4a64e059",
   "metadata": {},
   "source": [
    "#### 35. How to compute ((A+B)*(-A/2)) in place (without copy)? (★★☆)"
   ]
  },
  {
   "cell_type": "code",
   "execution_count": 87,
   "id": "49267f60",
   "metadata": {},
   "outputs": [
    {
     "data": {
      "text/plain": [
       "array([-1.5, -1.5, -1.5])"
      ]
     },
     "execution_count": 87,
     "metadata": {},
     "output_type": "execute_result"
    }
   ],
   "source": [
    "A = np.ones(3) * 1\n",
    "B = np.ones(3) * 2\n",
    "np.add(A, B, out=B)\n",
    "np.divide(A, 2, out=A)\n",
    "np.negative(A, out=A)\n",
    "np.multiply(A, B, out=A)"
   ]
  },
  {
   "cell_type": "markdown",
   "id": "8a98c2a8",
   "metadata": {},
   "source": [
    "#### 36. Extract the integer part of a random array of positive numbers using 4 different methods (★★☆)"
   ]
  },
  {
   "cell_type": "code",
   "execution_count": 88,
   "id": "368130b3",
   "metadata": {},
   "outputs": [
    {
     "data": {
      "text/plain": [
       "(array([9., 7., 1., 3., 2., 9., 1., 2., 1., 4.]),\n",
       " array([9., 7., 1., 3., 2., 9., 1., 2., 1., 4.]),\n",
       " array([9., 7., 1., 3., 2., 9., 1., 2., 1., 4.]),\n",
       " array([9, 7, 1, 3, 2, 9, 1, 2, 1, 4]),\n",
       " array([9., 7., 1., 3., 2., 9., 1., 2., 1., 4.]))"
      ]
     },
     "execution_count": 88,
     "metadata": {},
     "output_type": "execute_result"
    }
   ],
   "source": [
    "v = np.random.uniform(0,10,10)\n",
    "\n",
    "(\n",
    "    v - v % 1,\n",
    "    v // 1,\n",
    "    np.floor(v),\n",
    "    v.astype(int),\n",
    "    np.trunc(v),\n",
    ")"
   ]
  },
  {
   "cell_type": "markdown",
   "id": "5a2e3d85",
   "metadata": {},
   "source": [
    "#### 37. Create a 5x5 matrix with row values ranging from 0 to 4 (★★☆)"
   ]
  },
  {
   "cell_type": "code",
   "execution_count": 89,
   "id": "1d974e8f",
   "metadata": {},
   "outputs": [
    {
     "data": {
      "text/plain": [
       "array([[0, 1, 2, 3, 4],\n",
       "       [0, 1, 2, 3, 4],\n",
       "       [0, 1, 2, 3, 4],\n",
       "       [0, 1, 2, 3, 4],\n",
       "       [0, 1, 2, 3, 4]])"
      ]
     },
     "execution_count": 89,
     "metadata": {},
     "output_type": "execute_result"
    }
   ],
   "source": [
    "np.tile(np.arange(0, 5), (5,1))"
   ]
  },
  {
   "cell_type": "markdown",
   "id": "9720e2d5",
   "metadata": {},
   "source": [
    "#### 38. Consider a generator function that generates 10 integers and use it to build an array (★☆☆)"
   ]
  },
  {
   "cell_type": "code",
   "execution_count": 92,
   "id": "e5dd8fc9",
   "metadata": {},
   "outputs": [
    {
     "data": {
      "text/plain": [
       "array([0, 1, 2, 3, 4, 5, 6, 7, 8, 9])"
      ]
     },
     "execution_count": 92,
     "metadata": {},
     "output_type": "execute_result"
    }
   ],
   "source": [
    "def generate():\n",
    "    for x in range(10):\n",
    "        yield x\n",
    "np.fromiter(generate(), dtype=int, count=-1)"
   ]
  },
  {
   "cell_type": "markdown",
   "id": "c6f2c912",
   "metadata": {},
   "source": [
    "#### 39. Create a vector of size 10 with values ranging from 0 to 1, both excluded (★★☆)"
   ]
  },
  {
   "cell_type": "code",
   "execution_count": 93,
   "id": "6aaa27d3",
   "metadata": {},
   "outputs": [
    {
     "data": {
      "text/plain": [
       "array([0.09090909, 0.18181818, 0.27272727, 0.36363636, 0.45454545,\n",
       "       0.54545455, 0.63636364, 0.72727273, 0.81818182, 0.90909091])"
      ]
     },
     "execution_count": 93,
     "metadata": {},
     "output_type": "execute_result"
    }
   ],
   "source": [
    "np.linspace(0,1,11,endpoint=False)[1:]"
   ]
  },
  {
   "cell_type": "markdown",
   "id": "a36d6ee4",
   "metadata": {},
   "source": [
    "#### 40. Create a random vector of size 10 and sort it (★★☆)"
   ]
  },
  {
   "cell_type": "code",
   "execution_count": 96,
   "id": "e589d216",
   "metadata": {},
   "outputs": [
    {
     "data": {
      "text/plain": [
       "array([0.06194971, 0.07060726, 0.16547386, 0.23581188, 0.46233096,\n",
       "       0.56232683, 0.64436219, 0.7789807 , 0.84294586, 0.88938796])"
      ]
     },
     "execution_count": 96,
     "metadata": {},
     "output_type": "execute_result"
    }
   ],
   "source": [
    "v = np.random.random(10)\n",
    "v.sort()\n",
    "v"
   ]
  },
  {
   "cell_type": "markdown",
   "id": "0fb4ad68",
   "metadata": {},
   "source": [
    "#### 41. How to sum a small array faster than np.sum? (★★☆)"
   ]
  },
  {
   "cell_type": "code",
   "execution_count": 97,
   "id": "a1ba05a0",
   "metadata": {},
   "outputs": [
    {
     "data": {
      "text/plain": [
       "45"
      ]
     },
     "execution_count": 97,
     "metadata": {},
     "output_type": "execute_result"
    }
   ],
   "source": [
    "np.add.reduce(np.arange(10))"
   ]
  },
  {
   "cell_type": "markdown",
   "id": "024ac365",
   "metadata": {},
   "source": [
    "#### 42. Consider two random array A and B, check if they are equal (★★☆)"
   ]
  },
  {
   "cell_type": "code",
   "execution_count": 101,
   "id": "7db3846d",
   "metadata": {},
   "outputs": [
    {
     "data": {
      "text/plain": [
       "False"
      ]
     },
     "execution_count": 101,
     "metadata": {},
     "output_type": "execute_result"
    }
   ],
   "source": [
    "A = np.random.randint(0, 10, 5)\n",
    "B = np.random.randint(0, 10, 5)\n",
    "np.array_equal(A, B)"
   ]
  },
  {
   "cell_type": "markdown",
   "id": "c68d2401",
   "metadata": {},
   "source": [
    "#### 43. Make an array immutable (read-only) (★★☆)"
   ]
  },
  {
   "cell_type": "code",
   "execution_count": 100,
   "id": "7828539d",
   "metadata": {},
   "outputs": [],
   "source": [
    "v = np.zeros(10)\n",
    "v.flags.writeable = False"
   ]
  },
  {
   "cell_type": "markdown",
   "id": "55df6280",
   "metadata": {},
   "source": [
    "#### 44. Consider a random 10x2 matrix representing cartesian coordinates, convert them to polar coordinates (★★☆)"
   ]
  },
  {
   "cell_type": "code",
   "execution_count": 102,
   "id": "f1c86ea0",
   "metadata": {},
   "outputs": [
    {
     "data": {
      "text/plain": [
       "(array([1.30893943, 0.8535086 , 0.66073342, 0.62567523, 0.50435312,\n",
       "        0.18582164, 0.98573959, 0.72561161, 0.55466863, 0.7595571 ]),\n",
       " array([0.83714531, 0.91146642, 1.05415603, 1.11643914, 1.45993874,\n",
       "        0.80153304, 0.46392143, 1.54043406, 0.4904559 , 0.35428194]))"
      ]
     },
     "execution_count": 102,
     "metadata": {},
     "output_type": "execute_result"
    }
   ],
   "source": [
    "m = np.random.random((10, 2))\n",
    "x, y = m[:, 0], m[:, 1]\n",
    "r = np.sqrt(x**2 + y**2)\n",
    "t = np.arctan2(y, x)\n",
    "(r, t)"
   ]
  },
  {
   "cell_type": "markdown",
   "id": "2f60f1ec",
   "metadata": {},
   "source": [
    "#### 45. Create random vector of size 10 and replace the maximum value by 0 (★★☆)"
   ]
  },
  {
   "cell_type": "code",
   "execution_count": 103,
   "id": "d9f48f1c",
   "metadata": {},
   "outputs": [],
   "source": [
    "v = np.random.random(10)\n",
    "v[v.argmax()] = 0"
   ]
  },
  {
   "cell_type": "markdown",
   "id": "084e8ad4",
   "metadata": {},
   "source": [
    "#### 46. Create a structured array with `x` and `y` coordinates covering the [0,1]x[0,1] area (★★☆)"
   ]
  },
  {
   "cell_type": "code",
   "execution_count": 104,
   "id": "58b47c13",
   "metadata": {},
   "outputs": [],
   "source": [
    "v = np.zeros(\n",
    "    (5, 5), \n",
    "    [\n",
    "        ('x', float),\n",
    "        ('y', float)\n",
    "    ]\n",
    ")\n",
    "v['x'], v['y'] = np.meshgrid(np.linspace(0,1,5),\n",
    "                             np.linspace(0,1,5))"
   ]
  },
  {
   "cell_type": "markdown",
   "id": "d7b9bc42",
   "metadata": {},
   "source": [
    "#### 47. Given two arrays, X and Y, construct the Cauchy matrix C (Cij =1/(xi - yj)) (★★☆)"
   ]
  },
  {
   "cell_type": "code",
   "execution_count": 106,
   "id": "a24824fb",
   "metadata": {},
   "outputs": [
    {
     "data": {
      "text/plain": [
       "array([[-2.        , -0.66666667, -0.4       , -0.28571429, -0.22222222],\n",
       "       [ 2.        , -2.        , -0.66666667, -0.4       , -0.28571429],\n",
       "       [ 0.66666667,  2.        , -2.        , -0.66666667, -0.4       ],\n",
       "       [ 0.4       ,  0.66666667,  2.        , -2.        , -0.66666667],\n",
       "       [ 0.28571429,  0.4       ,  0.66666667,  2.        , -2.        ]])"
      ]
     },
     "execution_count": 106,
     "metadata": {},
     "output_type": "execute_result"
    }
   ],
   "source": [
    "x = np.arange(5)\n",
    "y = x + 0.5\n",
    "1.0 / np.subtract.outer(x, y)"
   ]
  },
  {
   "cell_type": "markdown",
   "id": "65ebc11b",
   "metadata": {},
   "source": [
    "#### 48. Print the minimum and maximum representable value for each numpy scalar type (★★☆)"
   ]
  },
  {
   "cell_type": "code",
   "execution_count": 108,
   "id": "e45d38fb",
   "metadata": {},
   "outputs": [
    {
     "name": "stdout",
     "output_type": "stream",
     "text": [
      "-128\n",
      "127\n",
      "-2147483648\n",
      "2147483647\n",
      "-9223372036854775808\n",
      "9223372036854775807\n",
      "-3.4028235e+38\n",
      "3.4028235e+38\n",
      "-1.7976931348623157e+308\n",
      "1.7976931348623157e+308\n"
     ]
    }
   ],
   "source": [
    "for dtype in [np.int8, np.int32, np.int64]:\n",
    "   print(np.iinfo(dtype).min)\n",
    "   print(np.iinfo(dtype).max)\n",
    "for dtype in [np.float32, np.float64]:\n",
    "   print(np.finfo(dtype).min)\n",
    "   print(np.finfo(dtype).max)"
   ]
  },
  {
   "cell_type": "markdown",
   "id": "9b317a98",
   "metadata": {},
   "source": [
    "#### 49. How to print all the values of an array? (★★☆)"
   ]
  },
  {
   "cell_type": "code",
   "execution_count": 109,
   "id": "309cdeb9",
   "metadata": {},
   "outputs": [
    {
     "data": {
      "text/plain": [
       "array([1, 2, 3, 4, 5, 6, 7, 8, 9])"
      ]
     },
     "execution_count": 109,
     "metadata": {},
     "output_type": "execute_result"
    }
   ],
   "source": [
    "np.arange(1, 10)"
   ]
  },
  {
   "cell_type": "markdown",
   "id": "b580f9d0",
   "metadata": {},
   "source": [
    "#### 50. How to find the closest value (to a given scalar) in a vector? (★★☆)"
   ]
  },
  {
   "cell_type": "code",
   "execution_count": 111,
   "id": "ebfb6714",
   "metadata": {},
   "outputs": [
    {
     "data": {
      "text/plain": [
       "3"
      ]
     },
     "execution_count": 111,
     "metadata": {},
     "output_type": "execute_result"
    }
   ],
   "source": [
    "v = np.arange(100)\n",
    "s = np.random.uniform(0,100)\n",
    "v[np.abs(v - s).argmin()]"
   ]
  },
  {
   "cell_type": "markdown",
   "id": "602e6252",
   "metadata": {},
   "source": [
    "#### 51. Create a structured array representing a position (x,y) and a color (r,g,b) (★★☆)"
   ]
  },
  {
   "cell_type": "code",
   "execution_count": 113,
   "id": "cf002b3a",
   "metadata": {},
   "outputs": [
    {
     "name": "stderr",
     "output_type": "stream",
     "text": [
      "/tmp/ipykernel_1422122/2125553789.py:1: FutureWarning: Passing (type, 1) or '1type' as a synonym of type is deprecated; in a future version of numpy, it will be understood as (type, (1,)) / '(1,)type'.\n",
      "  np.zeros(10, [\n"
     ]
    },
    {
     "data": {
      "text/plain": [
       "array([((0., 0.), (0., 0., 0.)), ((0., 0.), (0., 0., 0.)),\n",
       "       ((0., 0.), (0., 0., 0.)), ((0., 0.), (0., 0., 0.)),\n",
       "       ((0., 0.), (0., 0., 0.)), ((0., 0.), (0., 0., 0.)),\n",
       "       ((0., 0.), (0., 0., 0.)), ((0., 0.), (0., 0., 0.)),\n",
       "       ((0., 0.), (0., 0., 0.)), ((0., 0.), (0., 0., 0.))],\n",
       "      dtype=[('position', [('x', '<f8'), ('y', '<f8')]), ('color', [('r', '<f8'), ('g', '<f8'), ('b', '<f8')])])"
      ]
     },
     "execution_count": 113,
     "metadata": {},
     "output_type": "execute_result"
    }
   ],
   "source": [
    "np.zeros(10, [\n",
    "    ('position', \n",
    "     [\n",
    "         ('x', float, 1),\n",
    "         ('y', float, 1)\n",
    "     ]),\n",
    "    ('color',\n",
    "     [\n",
    "         ('r', float, 1),\n",
    "         ('g', float, 1),\n",
    "         ('b', float, 1)\n",
    "     ])\n",
    "])"
   ]
  },
  {
   "cell_type": "markdown",
   "id": "78bcd92f",
   "metadata": {},
   "source": [
    "#### 52. Consider a random vector with shape (100,2) representing coordinates, find point by point distances (★★☆)"
   ]
  },
  {
   "cell_type": "code",
   "execution_count": 117,
   "id": "fea7f9a6",
   "metadata": {},
   "outputs": [
    {
     "data": {
      "text/plain": [
       "array([[0.        , 0.51041421, 0.35297252, ..., 0.28304842, 0.30513967,\n",
       "        0.62029282],\n",
       "       [0.51041421, 0.        , 0.78763608, ..., 0.63753292, 0.51977095,\n",
       "        0.468661  ],\n",
       "       [0.35297252, 0.78763608, 0.        , ..., 0.56777048, 0.64232541,\n",
       "        0.67525635],\n",
       "       ...,\n",
       "       [0.28304842, 0.63753292, 0.56777048, ..., 0.        , 0.14738375,\n",
       "        0.87851321],\n",
       "       [0.30513967, 0.51977095, 0.64232541, ..., 0.14738375, 0.        ,\n",
       "        0.8244425 ],\n",
       "       [0.62029282, 0.468661  , 0.67525635, ..., 0.87851321, 0.8244425 ,\n",
       "        0.        ]])"
      ]
     },
     "execution_count": 117,
     "metadata": {},
     "output_type": "execute_result"
    }
   ],
   "source": [
    "v = np.random.random((100,2))\n",
    "x, y = np.atleast_2d(v[:, 0], v[:, 1])\n",
    "np.sqrt((x - x.T)**2 + (y - y.T)**2)"
   ]
  },
  {
   "cell_type": "markdown",
   "id": "343c5a85",
   "metadata": {},
   "source": [
    "#### 53. How to convert a float (32 bits) array into an integer (32 bits) in place?"
   ]
  },
  {
   "cell_type": "code",
   "execution_count": 122,
   "id": "fc1b687b",
   "metadata": {},
   "outputs": [
    {
     "data": {
      "text/plain": [
       "array([1062158720, 1060077721, 1037044073, 1056991965, 1058803599,\n",
       "       1061780328, 1061719341, 1056384255, 1051240114, 1062897057],\n",
       "      dtype=int32)"
      ]
     },
     "execution_count": 122,
     "metadata": {},
     "output_type": "execute_result"
    }
   ],
   "source": [
    "v = (np.random.rand(10)).astype(np.float32)\n",
    "v = v.view(np.int32)\n",
    "v"
   ]
  },
  {
   "cell_type": "markdown",
   "id": "a69e1ace",
   "metadata": {},
   "source": [
    "#### 54. How to read the following file? (★★☆)\n",
    "```\n",
    "1, 2, 3, 4, 5\n",
    "6,  ,  , 7, 8\n",
    " ,  , 9,10,11\n",
    "```"
   ]
  },
  {
   "cell_type": "code",
   "execution_count": null,
   "id": "1c7957d4",
   "metadata": {},
   "outputs": [],
   "source": [
    "np.genfromtxt(file, delimiter=\",\", dtype=np.int)"
   ]
  },
  {
   "cell_type": "markdown",
   "id": "c23bd80d",
   "metadata": {},
   "source": [
    "#### 55. What is the equivalent of enumerate for numpy arrays? (★★☆)"
   ]
  },
  {
   "cell_type": "code",
   "execution_count": 123,
   "id": "d95d9578",
   "metadata": {},
   "outputs": [
    {
     "name": "stdout",
     "output_type": "stream",
     "text": [
      " ndenumerate(arr)\n",
      "\n",
      "Multidimensional index iterator.\n",
      "\n",
      "Return an iterator yielding pairs of array coordinates and values.\n",
      "\n",
      "Parameters\n",
      "----------\n",
      "arr : ndarray\n",
      "  Input array.\n",
      "\n",
      "See Also\n",
      "--------\n",
      "ndindex, flatiter\n",
      "\n",
      "Examples\n",
      "--------\n",
      ">>> a = np.array([[1, 2], [3, 4]])\n",
      ">>> for index, x in np.ndenumerate(a):\n",
      "...     print(index, x)\n",
      "(0, 0) 1\n",
      "(0, 1) 2\n",
      "(1, 0) 3\n",
      "(1, 1) 4\n"
     ]
    }
   ],
   "source": [
    "np.info(np.ndenumerate)"
   ]
  },
  {
   "cell_type": "markdown",
   "id": "2153a5ec",
   "metadata": {},
   "source": [
    "#### 56. Generate a generic 2D Gaussian-like array (★★☆)"
   ]
  },
  {
   "cell_type": "code",
   "execution_count": 125,
   "id": "61122d1e",
   "metadata": {},
   "outputs": [
    {
     "data": {
      "text/plain": [
       "array([[0.13533528, 0.2865048 , 0.36787944, 0.2865048 , 0.13533528],\n",
       "       [0.2865048 , 0.60653066, 0.77880078, 0.60653066, 0.2865048 ],\n",
       "       [0.36787944, 0.77880078, 1.        , 0.77880078, 0.36787944],\n",
       "       [0.2865048 , 0.60653066, 0.77880078, 0.60653066, 0.2865048 ],\n",
       "       [0.13533528, 0.2865048 , 0.36787944, 0.2865048 , 0.13533528]])"
      ]
     },
     "execution_count": 125,
     "metadata": {},
     "output_type": "execute_result"
    }
   ],
   "source": [
    "x, y = np.meshgrid(np.linspace(-1, 1, 5), \n",
    "                   np.linspace(-1, 1, 5))\n",
    "z = np.sqrt(x**2 + y**2)\n",
    "np.exp(-z**2)"
   ]
  },
  {
   "cell_type": "markdown",
   "id": "2e76d589",
   "metadata": {},
   "source": [
    "#### 57. How to randomly place p elements in a 2D array? (★★☆)"
   ]
  },
  {
   "cell_type": "code",
   "execution_count": 129,
   "id": "0c2e4fcc",
   "metadata": {},
   "outputs": [
    {
     "data": {
      "text/plain": [
       "array([[ 0.,  0.,  0.,  0.,  0.],\n",
       "       [10.,  0.,  0., 10.,  0.],\n",
       "       [ 0.,  0.,  0.,  0.,  0.],\n",
       "       [10.,  0., 10., 10.,  0.],\n",
       "       [ 0.,  0.,  0.,  0.,  0.]])"
      ]
     },
     "execution_count": 129,
     "metadata": {},
     "output_type": "execute_result"
    }
   ],
   "source": [
    "p = 5\n",
    "m = np.zeros((5,5))\n",
    "np.put(m, np.random.choice(range(25), p, replace=False), 10)\n",
    "m"
   ]
  },
  {
   "cell_type": "markdown",
   "id": "8b3933eb",
   "metadata": {},
   "source": [
    "#### 58. Subtract the mean of each row of a matrix (★★☆)"
   ]
  },
  {
   "cell_type": "code",
   "execution_count": 131,
   "id": "a306c9ef",
   "metadata": {},
   "outputs": [
    {
     "data": {
      "text/plain": [
       "array([[ 0.08285531, -0.35725971,  0.19397703,  0.19025353, -0.01969111,\n",
       "         0.31891035,  0.13296913, -0.32141025, -0.10347449, -0.1171298 ],\n",
       "       [-0.21953422, -0.21098511,  0.39218207,  0.47535153,  0.09519794,\n",
       "        -0.18187301, -0.34342037,  0.5204161 , -0.40888807, -0.11844687],\n",
       "       [ 0.03207352, -0.10850493,  0.05910407, -0.17557089, -0.20635936,\n",
       "         0.27114616,  0.32678683, -0.03003602, -0.11541465, -0.05322473],\n",
       "       [ 0.49518156, -0.22487203,  0.04584989, -0.18313412,  0.31953357,\n",
       "         0.17802844, -0.25091791,  0.00938418, -0.12112113, -0.26793246],\n",
       "       [-0.24785099,  0.12344078, -0.13010645,  0.17732374,  0.16389237,\n",
       "         0.08792642,  0.37291036, -0.02009486, -0.19054549, -0.33689589]])"
      ]
     },
     "execution_count": 131,
     "metadata": {},
     "output_type": "execute_result"
    }
   ],
   "source": [
    "m = np.random.rand(5, 10)\n",
    "m - m.mean(axis=1, keepdims=True)"
   ]
  },
  {
   "cell_type": "markdown",
   "id": "ea8807c0",
   "metadata": {},
   "source": [
    "#### 59. How to sort an array by the nth column? (★★☆)"
   ]
  },
  {
   "cell_type": "code",
   "execution_count": 133,
   "id": "cc89a699",
   "metadata": {},
   "outputs": [
    {
     "data": {
      "text/plain": [
       "array([[2, 5, 0],\n",
       "       [6, 5, 5],\n",
       "       [7, 4, 8]])"
      ]
     },
     "execution_count": 133,
     "metadata": {},
     "output_type": "execute_result"
    }
   ],
   "source": [
    "n = 0\n",
    "m = np.random.randint(0, 10, (3, 3))\n",
    "m[m[:, n].argsort()]"
   ]
  },
  {
   "cell_type": "markdown",
   "id": "00fa00a1",
   "metadata": {},
   "source": [
    "#### 60. How to tell if a given 2D array has null columns? (★★☆)"
   ]
  },
  {
   "cell_type": "code",
   "execution_count": 140,
   "id": "3436e165",
   "metadata": {},
   "outputs": [
    {
     "data": {
      "text/plain": [
       "True"
      ]
     },
     "execution_count": 140,
     "metadata": {},
     "output_type": "execute_result"
    }
   ],
   "source": [
    "m = np.ones((5, 5))\n",
    "m[:, 1] = np.nan\n",
    "any(np.isnan(m).all(axis=0))"
   ]
  },
  {
   "cell_type": "markdown",
   "id": "5a65c7a2",
   "metadata": {},
   "source": [
    "#### 61. Find the nearest value from a given value in an array (★★☆)"
   ]
  },
  {
   "cell_type": "code",
   "execution_count": 141,
   "id": "73f149d6",
   "metadata": {},
   "outputs": [
    {
     "data": {
      "text/plain": [
       "0.9177576201075951"
      ]
     },
     "execution_count": 141,
     "metadata": {},
     "output_type": "execute_result"
    }
   ],
   "source": [
    "x = 1\n",
    "v = np.random.uniform(0, 1, 8)\n",
    "v.flat[np.abs(v - x).argmin()]"
   ]
  },
  {
   "cell_type": "markdown",
   "id": "dd83e8af",
   "metadata": {},
   "source": [
    "#### 62. Considering two arrays with shape (1,3) and (3,1), how to compute their sum using an iterator? (★★☆)"
   ]
  },
  {
   "cell_type": "code",
   "execution_count": 142,
   "id": "29a709a1",
   "metadata": {},
   "outputs": [
    {
     "data": {
      "text/plain": [
       "array([[0, 1, 2],\n",
       "       [1, 2, 3],\n",
       "       [2, 3, 4]])"
      ]
     },
     "execution_count": 142,
     "metadata": {},
     "output_type": "execute_result"
    }
   ],
   "source": [
    "A = np.arange(3).reshape(3, 1)\n",
    "B = np.arange(3).reshape(1, 3)\n",
    "it = np.nditer([A, B, None])\n",
    "for x, y, z in it: \n",
    "    z[...] = x + y\n",
    "it.operands[2]"
   ]
  },
  {
   "cell_type": "markdown",
   "id": "6c042efa",
   "metadata": {},
   "source": [
    "#### 63. Create an array class that has a name attribute (★★☆)"
   ]
  },
  {
   "cell_type": "code",
   "execution_count": 149,
   "id": "45b3d2e0",
   "metadata": {},
   "outputs": [
    {
     "data": {
      "text/plain": [
       "'five_ones'"
      ]
     },
     "execution_count": 149,
     "metadata": {},
     "output_type": "execute_result"
    }
   ],
   "source": [
    "class MyArray(np.ndarray):\n",
    "    def __new__(cls, arr, name=\"unnamed\"):\n",
    "        obj = np.asarray(arr).view(cls)\n",
    "        obj.name = name\n",
    "        return obj\n",
    "        \n",
    "    def __finalize__(self, x):\n",
    "        if x is None:\n",
    "            return\n",
    "        self.info = getattr(x, 'name', \"unnamed\")\n",
    "        \n",
    "MyArray(np.ones(5).astype(int32), str('five_ones')).name"
   ]
  },
  {
   "cell_type": "markdown",
   "id": "0a075c3d",
   "metadata": {},
   "source": [
    "#### 64. Consider a given vector, how to add 1 to each element indexed by a second vector (be careful with repeated indices)? (★★★)"
   ]
  },
  {
   "cell_type": "code",
   "execution_count": 151,
   "id": "36c50470",
   "metadata": {},
   "outputs": [
    {
     "data": {
      "text/plain": [
       "array([2., 1., 1., 3., 2., 1., 2., 1.])"
      ]
     },
     "execution_count": 151,
     "metadata": {},
     "output_type": "execute_result"
    }
   ],
   "source": [
    "v = np.ones(8)\n",
    "i = np.random.randint(0, len(v), 5)\n",
    "v += np.bincount(i, minlength=len(v))\n",
    "v"
   ]
  },
  {
   "cell_type": "markdown",
   "id": "0fb2f0c5",
   "metadata": {},
   "source": [
    "#### 65. How to accumulate elements of a vector (X) to an array (F) based on an index list (I)? (★★★)"
   ]
  },
  {
   "cell_type": "code",
   "execution_count": 153,
   "id": "58aa5f82",
   "metadata": {},
   "outputs": [
    {
     "data": {
      "text/plain": [
       "array([0., 7., 0., 6., 5., 0., 0., 0., 0., 3.])"
      ]
     },
     "execution_count": 153,
     "metadata": {},
     "output_type": "execute_result"
    }
   ],
   "source": [
    "x = [1, 2, 3, 4, 5, 6]\n",
    "i = [1, 3, 9, 3, 4, 1]\n",
    "np.bincount(i, x)"
   ]
  },
  {
   "cell_type": "markdown",
   "id": "d89dc506",
   "metadata": {},
   "source": [
    "#### 66. Considering a (w,h,3) image of (dtype=ubyte), compute the number of unique colors (★★☆)"
   ]
  },
  {
   "cell_type": "code",
   "execution_count": 161,
   "id": "8fb43a49",
   "metadata": {},
   "outputs": [
    {
     "data": {
      "text/plain": [
       "4"
      ]
     },
     "execution_count": 161,
     "metadata": {},
     "output_type": "execute_result"
    }
   ],
   "source": [
    "w, h = 64, 64\n",
    "i = np.random.randint(0, 4, (h, w, 3)).astype(np.ubyte)\n",
    "len(np.unique(i))"
   ]
  },
  {
   "cell_type": "markdown",
   "id": "535a5d81",
   "metadata": {},
   "source": [
    "#### 67. Considering a four dimensions array, how to get sum over the last two axis at once? (★★★)"
   ]
  },
  {
   "cell_type": "code",
   "execution_count": 162,
   "id": "f954ab9d",
   "metadata": {},
   "outputs": [
    {
     "data": {
      "text/plain": [
       "array([[136, 139, 121],\n",
       "       [155, 198, 216],\n",
       "       [128, 136,  60]])"
      ]
     },
     "execution_count": 162,
     "metadata": {},
     "output_type": "execute_result"
    }
   ],
   "source": [
    "a = np.random.randint(0, 32, (3, 3, 3, 3))\n",
    "a.sum(axis=(-2, -1))"
   ]
  },
  {
   "cell_type": "markdown",
   "id": "eee66d3c",
   "metadata": {},
   "source": [
    "#### 68. Considering a one-dimensional vector D, how to compute means of subsets of D using a vector S of same size describing subset  indices? (★★★)"
   ]
  },
  {
   "cell_type": "code",
   "execution_count": 163,
   "id": "8929773a",
   "metadata": {},
   "outputs": [
    {
     "data": {
      "text/plain": [
       "array([0.61507872, 0.44030128, 0.53562686, 0.46528738, 0.5367008 ,\n",
       "       0.55346212, 0.4748132 , 0.58683823, 0.52834314, 0.49426676])"
      ]
     },
     "execution_count": 163,
     "metadata": {},
     "output_type": "execute_result"
    }
   ],
   "source": [
    "D = np.random.uniform(0, 1, 100)\n",
    "S = np.random.randint(0, 10, 100)\n",
    "np.bincount(S, weights=D) / np.bincount(S)"
   ]
  },
  {
   "cell_type": "markdown",
   "id": "f90d4c40",
   "metadata": {},
   "source": [
    "#### 69. How to get the diagonal of a dot product? (★★★)"
   ]
  },
  {
   "cell_type": "code",
   "execution_count": 164,
   "id": "b47d392d",
   "metadata": {},
   "outputs": [
    {
     "data": {
      "text/plain": [
       "array([0.77349218, 0.79922712, 0.94869919])"
      ]
     },
     "execution_count": 164,
     "metadata": {},
     "output_type": "execute_result"
    }
   ],
   "source": [
    "x = np.random.uniform(0, 1, (3, 3))\n",
    "y = np.random.uniform(0, 1, (3, 3))\n",
    "np.sum(x * y.T, axis=1)"
   ]
  },
  {
   "cell_type": "markdown",
   "id": "a8a97e7d",
   "metadata": {},
   "source": [
    "#### 70. Consider the vector [1, 2, 3, 4, 5], how to build a new vector with 3 consecutive zeros interleaved between each value? (★★★)"
   ]
  },
  {
   "cell_type": "code",
   "execution_count": 165,
   "id": "ee6c6c37",
   "metadata": {},
   "outputs": [
    {
     "data": {
      "text/plain": [
       "array([1., 0., 0., 0., 2., 0., 0., 0., 3., 0., 0., 0., 4., 0., 0., 0., 5.])"
      ]
     },
     "execution_count": 165,
     "metadata": {},
     "output_type": "execute_result"
    }
   ],
   "source": [
    "v = np.array([1, 2, 3, 4, 5])\n",
    "z = np.zeros(len(v) + (len(v) - 1) * 3)\n",
    "z[::4] = v\n",
    "z"
   ]
  },
  {
   "cell_type": "markdown",
   "id": "d6a30d60",
   "metadata": {},
   "source": [
    "#### 71. Consider an array of dimension (5,5,3), how to mulitply it by an array with dimensions (5,5)? (★★★)"
   ]
  },
  {
   "cell_type": "code",
   "execution_count": 166,
   "id": "e9703f2e",
   "metadata": {},
   "outputs": [
    {
     "data": {
      "text/plain": [
       "array([[[2., 2., 2.],\n",
       "        [2., 2., 2.],\n",
       "        [2., 2., 2.],\n",
       "        [2., 2., 2.],\n",
       "        [2., 2., 2.]],\n",
       "\n",
       "       [[2., 2., 2.],\n",
       "        [2., 2., 2.],\n",
       "        [2., 2., 2.],\n",
       "        [2., 2., 2.],\n",
       "        [2., 2., 2.]],\n",
       "\n",
       "       [[2., 2., 2.],\n",
       "        [2., 2., 2.],\n",
       "        [2., 2., 2.],\n",
       "        [2., 2., 2.],\n",
       "        [2., 2., 2.]],\n",
       "\n",
       "       [[2., 2., 2.],\n",
       "        [2., 2., 2.],\n",
       "        [2., 2., 2.],\n",
       "        [2., 2., 2.],\n",
       "        [2., 2., 2.]],\n",
       "\n",
       "       [[2., 2., 2.],\n",
       "        [2., 2., 2.],\n",
       "        [2., 2., 2.],\n",
       "        [2., 2., 2.],\n",
       "        [2., 2., 2.]]])"
      ]
     },
     "execution_count": 166,
     "metadata": {},
     "output_type": "execute_result"
    }
   ],
   "source": [
    "a = np.ones((5, 5, 3))\n",
    "b = 2 * np.ones((5, 5))\n",
    "a * b[:, :, None]"
   ]
  },
  {
   "cell_type": "markdown",
   "id": "bac359a9",
   "metadata": {},
   "source": [
    "#### 72. How to swap two rows of an array? (★★★)"
   ]
  },
  {
   "cell_type": "code",
   "execution_count": 167,
   "id": "f1b432b1",
   "metadata": {},
   "outputs": [],
   "source": [
    "m = np.ones((3,3))\n",
    "m[[0,1]] = m[[1,0]]"
   ]
  },
  {
   "cell_type": "markdown",
   "id": "620c9f83",
   "metadata": {},
   "source": [
    "#### 73. Consider a set of 10 triplets describing 10 triangles (with shared vertices), find the set of unique line segments composing all the  triangles (★★★)"
   ]
  },
  {
   "cell_type": "code",
   "execution_count": 170,
   "id": "4e595ffc",
   "metadata": {},
   "outputs": [
    {
     "data": {
      "text/plain": [
       "array([(0, 1), (0, 3), (0, 5), (0, 6), (0, 7), (0, 9), (1, 1), (2, 2),\n",
       "       (2, 3), (2, 4), (2, 5), (2, 7), (2, 8), (3, 4), (3, 7), (4, 7),\n",
       "       (4, 9), (5, 6), (5, 7), (6, 9), (7, 9), (9, 9)],\n",
       "      dtype=[('p0', '<i8'), ('p1', '<i8')])"
      ]
     },
     "execution_count": 170,
     "metadata": {},
     "output_type": "execute_result"
    }
   ],
   "source": [
    "faces = np.random.randint(0, 10, (10, 3))\n",
    "x = np.roll(faces.repeat(2, axis=1), -1, axis=1)\n",
    "x = x.reshape(len(x) * 3, 2)\n",
    "x = np.sort(x, axis=1)\n",
    "y = x.view(dtype=[('p0', x.dtype), ('p1',x.dtype)] )\n",
    "np.unique(y)"
   ]
  },
  {
   "cell_type": "markdown",
   "id": "a76c55a2",
   "metadata": {},
   "source": [
    "#### 74. Given a sorted array C that corresponds to a bincount, how to produce an array A such that np.bincount(A) == C? (★★★)"
   ]
  },
  {
   "cell_type": "code",
   "execution_count": 171,
   "id": "2d2ae65a",
   "metadata": {},
   "outputs": [
    {
     "data": {
      "text/plain": [
       "array([1, 2, 3, 4, 5, 6])"
      ]
     },
     "execution_count": 171,
     "metadata": {},
     "output_type": "execute_result"
    }
   ],
   "source": [
    "C = np.bincount([1, 2, 3, 4, 5, 6])\n",
    "A = np.repeat(np.arange(len(C)), C)\n",
    "A"
   ]
  },
  {
   "cell_type": "markdown",
   "id": "d550c8e2",
   "metadata": {},
   "source": [
    "#### 75. How to compute averages using a sliding window over an array? (★★★)"
   ]
  },
  {
   "cell_type": "code",
   "execution_count": 172,
   "id": "841c457c",
   "metadata": {},
   "outputs": [
    {
     "data": {
      "text/plain": [
       "array([1., 2., 3., 4., 5., 6., 7., 8.])"
      ]
     },
     "execution_count": 172,
     "metadata": {},
     "output_type": "execute_result"
    }
   ],
   "source": [
    "n = 3\n",
    "v = np.arange(10)\n",
    "r = np.cumsum(v, dtype=float)\n",
    "r[n:] = r[n:] - r[:-n]\n",
    "r[n - 1:] / n"
   ]
  },
  {
   "cell_type": "markdown",
   "id": "6b170b00",
   "metadata": {},
   "source": [
    "#### 76. Consider a one-dimensional array Z, build a two-dimensional array whose first row is (Z[0],Z[1],Z[2]) and each subsequent row is  shifted by 1 (last row should be (Z[-3],Z[-2],Z[-1]) (★★★)"
   ]
  },
  {
   "cell_type": "code",
   "execution_count": 173,
   "id": "d9a0cf4e",
   "metadata": {},
   "outputs": [
    {
     "data": {
      "text/plain": [
       "array([[0, 1, 2],\n",
       "       [1, 2, 3],\n",
       "       [2, 3, 4],\n",
       "       [3, 4, 5],\n",
       "       [4, 5, 6],\n",
       "       [5, 6, 7],\n",
       "       [6, 7, 8],\n",
       "       [7, 8, 9]])"
      ]
     },
     "execution_count": 173,
     "metadata": {},
     "output_type": "execute_result"
    }
   ],
   "source": [
    "from numpy.lib import stride_tricks\n",
    "\n",
    "a = np.arange(10)\n",
    "window = 3\n",
    "shape = (a.size - window + 1, window)\n",
    "strides = (a.strides[0], a.strides[0])\n",
    "stride_tricks.as_strided(a, shape=shape, strides=strides)"
   ]
  },
  {
   "cell_type": "markdown",
   "id": "e94a5c1d",
   "metadata": {},
   "source": [
    "#### 77. How to negate a boolean, or to change the sign of a float inplace? (★★★)"
   ]
  },
  {
   "cell_type": "code",
   "execution_count": 176,
   "id": "c0f9504f",
   "metadata": {},
   "outputs": [
    {
     "data": {
      "text/plain": [
       "(array([ 0.27233274,  0.42175015,  0.65772885, -0.30456761, -0.20935605,\n",
       "        -0.23810214,  0.37625387,  0.98848083,  0.11462637, -0.23236377]),\n",
       " array([0, 1, 1, 0, 1, 1, 1, 0, 1, 1]))"
      ]
     },
     "execution_count": 176,
     "metadata": {},
     "output_type": "execute_result"
    }
   ],
   "source": [
    "v1 = np.random.uniform(-1.0, 1.0, 10)\n",
    "v2 = np.random.randint(0, 2, 10)\n",
    "(\n",
    "    np.negative(v1, out=v1),\n",
    "    np.logical_not(v2, out=v2),\n",
    ")"
   ]
  },
  {
   "cell_type": "markdown",
   "id": "4eb8b5c1",
   "metadata": {},
   "source": [
    "#### 78. Consider 2 sets of points P0,P1 describing lines (2d) and a point p, how to compute distance from p to each line i (P0[i],P1[i])? (★★★)"
   ]
  },
  {
   "cell_type": "code",
   "execution_count": 182,
   "id": "487f47ec",
   "metadata": {},
   "outputs": [
    {
     "data": {
      "text/plain": [
       "array([6.68485696, 7.98894169, 2.17074042, 5.52019041, 0.02160817,\n",
       "       7.19001246, 2.49613697, 9.11318069, 0.09860477, 0.42282348])"
      ]
     },
     "execution_count": 182,
     "metadata": {},
     "output_type": "execute_result"
    }
   ],
   "source": [
    "def distance(P0, P1, p):\n",
    "    T = P1 - P0\n",
    "    L = (T**2).sum(axis=1)\n",
    "    U = -((P0[:,0]-p[...,0])*T[:,0] + (P0[:,1]-p[...,1])*T[:,1]) / L\n",
    "    U = U.reshape(len(U),1)\n",
    "    D = P0 + U*T - p\n",
    "    return np.sqrt((D**2).sum(axis=1))\n",
    "\n",
    "P0 = np.random.uniform(-10,10,(10,2))\n",
    "P1 = np.random.uniform(-10,10,(10,2))\n",
    "p  = np.random.uniform(-10,10,( 1,2))\n",
    "distance(P0, P1, p)"
   ]
  },
  {
   "cell_type": "markdown",
   "id": "3df99948",
   "metadata": {},
   "source": [
    "#### 79. Consider 2 sets of points P0,P1 describing lines (2d) and a set of points P, how to compute distance from each point j (P[j]) to each line i (P0[i],P1[i])? (★★★)"
   ]
  },
  {
   "cell_type": "code",
   "execution_count": 183,
   "id": "dc2df37b",
   "metadata": {},
   "outputs": [
    {
     "name": "stdout",
     "output_type": "stream",
     "text": [
      "[[5.37826925e+00 1.13247454e+01 6.79346766e+00 7.02941510e+00\n",
      "  3.99122106e+00 5.81272772e+00 1.09923594e+00 4.96256567e+00\n",
      "  1.19804858e+01 7.85296164e-01]\n",
      " [1.10865040e+01 1.48252482e+01 1.42829095e+01 9.49052982e+00\n",
      "  9.68672542e+00 5.18881603e+00 8.87048438e+00 9.97323440e+00\n",
      "  1.70007717e+01 5.69359430e+00]\n",
      " [5.34962471e+00 1.10623025e+01 7.36089852e+00 6.67983752e+00\n",
      "  3.96095844e+00 5.26429157e+00 1.58445510e+00 4.85087204e+00\n",
      "  1.18698677e+01 1.32479438e-01]\n",
      " [1.86231647e+00 1.27363402e+00 1.11563159e+01 3.81933433e+00\n",
      "  3.27175593e+00 6.03403799e+00 3.25329734e+00 3.37632248e+00\n",
      "  3.65514913e+00 6.69965078e+00]\n",
      " [1.93303499e+00 8.39384405e+00 4.29457973e+00 4.41729075e+00\n",
      "  5.48050734e-01 4.34645984e+00 1.83968941e+00 1.64918144e+00\n",
      "  8.66505187e+00 2.40592192e+00]\n",
      " [3.17277454e+00 8.40824328e-01 8.52078041e+00 3.87368382e+00\n",
      "  4.57674448e+00 5.05557790e+00 6.75416704e-01 4.39557781e+00\n",
      "  2.63198418e+00 4.17449180e+00]\n",
      " [2.62475294e+00 5.78036714e+00 1.27072528e+01 5.32266749e-01\n",
      "  1.21736153e+00 2.57125671e+00 5.60485024e+00 1.18273392e+00\n",
      "  8.21371059e+00 6.88058761e+00]\n",
      " [4.79512582e+00 8.77147943e-01 8.17870506e+00 5.56894664e+00\n",
      "  6.20044421e+00 6.50695129e+00 1.46650167e-02 6.07524035e+00\n",
      "  9.52906792e-01 4.35678563e+00]\n",
      " [8.21038556e+00 1.42494184e+01 7.57436273e+00 9.88639824e+00\n",
      "  6.82518053e+00 8.17886287e+00 2.41190220e+00 7.86844492e+00\n",
      "  1.48856848e+01 8.95394068e-01]\n",
      " [1.94573394e-01 6.04777698e+00 5.17606636e+00 1.90505448e+00\n",
      "  1.19532543e+00 1.65342060e+00 1.46635863e+00 3.29230677e-01\n",
      "  6.68958505e+00 7.96861153e-01]]\n"
     ]
    }
   ],
   "source": [
    "P0 = np.random.uniform(-10, 10, (10,2))\n",
    "P1 = np.random.uniform(-10,10,(10,2))\n",
    "p = np.random.uniform(-10, 10, (10,2))\n",
    "print(np.array([distance(P0,P1,p_i) for p_i in p]))"
   ]
  },
  {
   "cell_type": "markdown",
   "id": "11e972c2",
   "metadata": {},
   "source": [
    "#### 80. Consider an arbitrary array, write a function that extract a subpart with a fixed shape and centered on a given element (pad with a `fill` value when necessary) (★★★)"
   ]
  },
  {
   "cell_type": "code",
   "execution_count": null,
   "id": "0291247f",
   "metadata": {},
   "outputs": [],
   "source": []
  },
  {
   "cell_type": "markdown",
   "id": "93cfeab3",
   "metadata": {},
   "source": [
    "#### 81. Consider an array Z = [1,2,3,4,5,6,7,8,9,10,11,12,13,14], how to generate an array R = [[1,2,3,4], [2,3,4,5], [3,4,5,6], ..., [11,12,13,14]]? (★★★)"
   ]
  },
  {
   "cell_type": "code",
   "execution_count": 184,
   "id": "360de791",
   "metadata": {},
   "outputs": [
    {
     "data": {
      "text/plain": [
       "array([[ 1,  2,  3,  4],\n",
       "       [ 2,  3,  4,  5],\n",
       "       [ 3,  4,  5,  6],\n",
       "       [ 4,  5,  6,  7],\n",
       "       [ 5,  6,  7,  8],\n",
       "       [ 6,  7,  8,  9],\n",
       "       [ 7,  8,  9, 10],\n",
       "       [ 8,  9, 10, 11],\n",
       "       [ 9, 10, 11, 12],\n",
       "       [10, 11, 12, 13],\n",
       "       [11, 12, 13, 14]], dtype=uint32)"
      ]
     },
     "execution_count": 184,
     "metadata": {},
     "output_type": "execute_result"
    }
   ],
   "source": [
    "Z = np.arange(1,15,dtype=np.uint32)\n",
    "R = stride_tricks.as_strided(Z,(11,4),(4,4))\n",
    "R"
   ]
  },
  {
   "cell_type": "markdown",
   "id": "4c15ceff",
   "metadata": {},
   "source": [
    "#### 82. Compute a matrix rank (★★★)"
   ]
  },
  {
   "cell_type": "code",
   "execution_count": 185,
   "id": "9a4272d2",
   "metadata": {},
   "outputs": [
    {
     "data": {
      "text/plain": [
       "10"
      ]
     },
     "execution_count": 185,
     "metadata": {},
     "output_type": "execute_result"
    }
   ],
   "source": [
    "Z = np.random.uniform(0,1,(10,10))\n",
    "U, S, V = np.linalg.svd(Z) # Singular Value Decomposition\n",
    "rank = np.sum(S > 1e-10)\n",
    "rank"
   ]
  },
  {
   "cell_type": "markdown",
   "id": "1171cb84",
   "metadata": {},
   "source": [
    "#### 83. How to find the most frequent value in an array?"
   ]
  },
  {
   "cell_type": "code",
   "execution_count": 186,
   "id": "33e951c8",
   "metadata": {},
   "outputs": [
    {
     "data": {
      "text/plain": [
       "5"
      ]
     },
     "execution_count": 186,
     "metadata": {},
     "output_type": "execute_result"
    }
   ],
   "source": [
    "Z = np.random.randint(0,10,50)\n",
    "np.bincount(Z).argmax()"
   ]
  },
  {
   "cell_type": "markdown",
   "id": "04f472aa",
   "metadata": {},
   "source": [
    "#### 84. Extract all the contiguous 3x3 blocks from a random 10x10 matrix (★★★)"
   ]
  },
  {
   "cell_type": "code",
   "execution_count": 187,
   "id": "7aade14a",
   "metadata": {},
   "outputs": [
    {
     "data": {
      "text/plain": [
       "array([[[[1, 1, 4],\n",
       "         [0, 4, 0],\n",
       "         [4, 2, 1]],\n",
       "\n",
       "        [[1, 4, 4],\n",
       "         [4, 0, 3],\n",
       "         [2, 1, 2]],\n",
       "\n",
       "        [[4, 4, 2],\n",
       "         [0, 3, 4],\n",
       "         [1, 2, 4]],\n",
       "\n",
       "        [[4, 2, 0],\n",
       "         [3, 4, 3],\n",
       "         [2, 4, 1]],\n",
       "\n",
       "        [[2, 0, 1],\n",
       "         [4, 3, 0],\n",
       "         [4, 1, 1]],\n",
       "\n",
       "        [[0, 1, 4],\n",
       "         [3, 0, 2],\n",
       "         [1, 1, 0]],\n",
       "\n",
       "        [[1, 4, 4],\n",
       "         [0, 2, 3],\n",
       "         [1, 0, 2]],\n",
       "\n",
       "        [[4, 4, 3],\n",
       "         [2, 3, 1],\n",
       "         [0, 2, 4]]],\n",
       "\n",
       "\n",
       "       [[[0, 4, 0],\n",
       "         [4, 2, 1],\n",
       "         [2, 0, 3]],\n",
       "\n",
       "        [[4, 0, 3],\n",
       "         [2, 1, 2],\n",
       "         [0, 3, 2]],\n",
       "\n",
       "        [[0, 3, 4],\n",
       "         [1, 2, 4],\n",
       "         [3, 2, 1]],\n",
       "\n",
       "        [[3, 4, 3],\n",
       "         [2, 4, 1],\n",
       "         [2, 1, 4]],\n",
       "\n",
       "        [[4, 3, 0],\n",
       "         [4, 1, 1],\n",
       "         [1, 4, 3]],\n",
       "\n",
       "        [[3, 0, 2],\n",
       "         [1, 1, 0],\n",
       "         [4, 3, 3]],\n",
       "\n",
       "        [[0, 2, 3],\n",
       "         [1, 0, 2],\n",
       "         [3, 3, 4]],\n",
       "\n",
       "        [[2, 3, 1],\n",
       "         [0, 2, 4],\n",
       "         [3, 4, 3]]],\n",
       "\n",
       "\n",
       "       [[[4, 2, 1],\n",
       "         [2, 0, 3],\n",
       "         [1, 4, 0]],\n",
       "\n",
       "        [[2, 1, 2],\n",
       "         [0, 3, 2],\n",
       "         [4, 0, 2]],\n",
       "\n",
       "        [[1, 2, 4],\n",
       "         [3, 2, 1],\n",
       "         [0, 2, 0]],\n",
       "\n",
       "        [[2, 4, 1],\n",
       "         [2, 1, 4],\n",
       "         [2, 0, 3]],\n",
       "\n",
       "        [[4, 1, 1],\n",
       "         [1, 4, 3],\n",
       "         [0, 3, 2]],\n",
       "\n",
       "        [[1, 1, 0],\n",
       "         [4, 3, 3],\n",
       "         [3, 2, 4]],\n",
       "\n",
       "        [[1, 0, 2],\n",
       "         [3, 3, 4],\n",
       "         [2, 4, 2]],\n",
       "\n",
       "        [[0, 2, 4],\n",
       "         [3, 4, 3],\n",
       "         [4, 2, 0]]],\n",
       "\n",
       "\n",
       "       [[[2, 0, 3],\n",
       "         [1, 4, 0],\n",
       "         [4, 3, 4]],\n",
       "\n",
       "        [[0, 3, 2],\n",
       "         [4, 0, 2],\n",
       "         [3, 4, 2]],\n",
       "\n",
       "        [[3, 2, 1],\n",
       "         [0, 2, 0],\n",
       "         [4, 2, 2]],\n",
       "\n",
       "        [[2, 1, 4],\n",
       "         [2, 0, 3],\n",
       "         [2, 2, 4]],\n",
       "\n",
       "        [[1, 4, 3],\n",
       "         [0, 3, 2],\n",
       "         [2, 4, 1]],\n",
       "\n",
       "        [[4, 3, 3],\n",
       "         [3, 2, 4],\n",
       "         [4, 1, 4]],\n",
       "\n",
       "        [[3, 3, 4],\n",
       "         [2, 4, 2],\n",
       "         [1, 4, 4]],\n",
       "\n",
       "        [[3, 4, 3],\n",
       "         [4, 2, 0],\n",
       "         [4, 4, 4]]],\n",
       "\n",
       "\n",
       "       [[[1, 4, 0],\n",
       "         [4, 3, 4],\n",
       "         [4, 1, 1]],\n",
       "\n",
       "        [[4, 0, 2],\n",
       "         [3, 4, 2],\n",
       "         [1, 1, 2]],\n",
       "\n",
       "        [[0, 2, 0],\n",
       "         [4, 2, 2],\n",
       "         [1, 2, 2]],\n",
       "\n",
       "        [[2, 0, 3],\n",
       "         [2, 2, 4],\n",
       "         [2, 2, 0]],\n",
       "\n",
       "        [[0, 3, 2],\n",
       "         [2, 4, 1],\n",
       "         [2, 0, 2]],\n",
       "\n",
       "        [[3, 2, 4],\n",
       "         [4, 1, 4],\n",
       "         [0, 2, 1]],\n",
       "\n",
       "        [[2, 4, 2],\n",
       "         [1, 4, 4],\n",
       "         [2, 1, 4]],\n",
       "\n",
       "        [[4, 2, 0],\n",
       "         [4, 4, 4],\n",
       "         [1, 4, 3]]],\n",
       "\n",
       "\n",
       "       [[[4, 3, 4],\n",
       "         [4, 1, 1],\n",
       "         [3, 3, 4]],\n",
       "\n",
       "        [[3, 4, 2],\n",
       "         [1, 1, 2],\n",
       "         [3, 4, 0]],\n",
       "\n",
       "        [[4, 2, 2],\n",
       "         [1, 2, 2],\n",
       "         [4, 0, 1]],\n",
       "\n",
       "        [[2, 2, 4],\n",
       "         [2, 2, 0],\n",
       "         [0, 1, 2]],\n",
       "\n",
       "        [[2, 4, 1],\n",
       "         [2, 0, 2],\n",
       "         [1, 2, 2]],\n",
       "\n",
       "        [[4, 1, 4],\n",
       "         [0, 2, 1],\n",
       "         [2, 2, 0]],\n",
       "\n",
       "        [[1, 4, 4],\n",
       "         [2, 1, 4],\n",
       "         [2, 0, 0]],\n",
       "\n",
       "        [[4, 4, 4],\n",
       "         [1, 4, 3],\n",
       "         [0, 0, 1]]],\n",
       "\n",
       "\n",
       "       [[[4, 1, 1],\n",
       "         [3, 3, 4],\n",
       "         [4, 2, 1]],\n",
       "\n",
       "        [[1, 1, 2],\n",
       "         [3, 4, 0],\n",
       "         [2, 1, 0]],\n",
       "\n",
       "        [[1, 2, 2],\n",
       "         [4, 0, 1],\n",
       "         [1, 0, 3]],\n",
       "\n",
       "        [[2, 2, 0],\n",
       "         [0, 1, 2],\n",
       "         [0, 3, 4]],\n",
       "\n",
       "        [[2, 0, 2],\n",
       "         [1, 2, 2],\n",
       "         [3, 4, 0]],\n",
       "\n",
       "        [[0, 2, 1],\n",
       "         [2, 2, 0],\n",
       "         [4, 0, 1]],\n",
       "\n",
       "        [[2, 1, 4],\n",
       "         [2, 0, 0],\n",
       "         [0, 1, 1]],\n",
       "\n",
       "        [[1, 4, 3],\n",
       "         [0, 0, 1],\n",
       "         [1, 1, 0]]],\n",
       "\n",
       "\n",
       "       [[[3, 3, 4],\n",
       "         [4, 2, 1],\n",
       "         [1, 4, 3]],\n",
       "\n",
       "        [[3, 4, 0],\n",
       "         [2, 1, 0],\n",
       "         [4, 3, 1]],\n",
       "\n",
       "        [[4, 0, 1],\n",
       "         [1, 0, 3],\n",
       "         [3, 1, 3]],\n",
       "\n",
       "        [[0, 1, 2],\n",
       "         [0, 3, 4],\n",
       "         [1, 3, 1]],\n",
       "\n",
       "        [[1, 2, 2],\n",
       "         [3, 4, 0],\n",
       "         [3, 1, 2]],\n",
       "\n",
       "        [[2, 2, 0],\n",
       "         [4, 0, 1],\n",
       "         [1, 2, 4]],\n",
       "\n",
       "        [[2, 0, 0],\n",
       "         [0, 1, 1],\n",
       "         [2, 4, 1]],\n",
       "\n",
       "        [[0, 0, 1],\n",
       "         [1, 1, 0],\n",
       "         [4, 1, 2]]]])"
      ]
     },
     "execution_count": 187,
     "metadata": {},
     "output_type": "execute_result"
    }
   ],
   "source": [
    "Z = np.random.randint(0,5,(10,10))\n",
    "n = 3\n",
    "i = 1 + (Z.shape[0]-3)\n",
    "j = 1 + (Z.shape[1]-3)\n",
    "C = stride_tricks.as_strided(Z, shape=(i, j, n, n), strides=Z.strides + Z.strides)\n",
    "C"
   ]
  },
  {
   "cell_type": "markdown",
   "id": "52836346",
   "metadata": {},
   "source": [
    "#### 85. Create a 2D array subclass such that Z[i,j] == Z[j,i] (★★★)"
   ]
  },
  {
   "cell_type": "code",
   "execution_count": 188,
   "id": "4df70318",
   "metadata": {},
   "outputs": [
    {
     "data": {
      "text/plain": [
       "Symetric([[ 9,  8,  4,  5,  8],\n",
       "          [ 8,  7,  5,  5, 12],\n",
       "          [ 4,  5,  0, 42,  3],\n",
       "          [ 5,  5, 42,  5,  9],\n",
       "          [ 8, 12,  3,  9,  7]])"
      ]
     },
     "execution_count": 188,
     "metadata": {},
     "output_type": "execute_result"
    }
   ],
   "source": [
    "class Symetric(np.ndarray):\n",
    "    def __setitem__(self, index, value):\n",
    "        i,j = index\n",
    "        super(Symetric, self).__setitem__((i,j), value)\n",
    "        super(Symetric, self).__setitem__((j,i), value)\n",
    "\n",
    "def symetric(Z):\n",
    "    return np.asarray(Z + Z.T - np.diag(Z.diagonal())).view(Symetric)\n",
    "\n",
    "S = symetric(np.random.randint(0,10,(5,5)))\n",
    "S[2,3] = 42\n",
    "S"
   ]
  },
  {
   "cell_type": "markdown",
   "id": "78c43ee5",
   "metadata": {},
   "source": [
    "#### 86. Consider a set of p matrices with shape (n,n) and a set of p vectors with shape (n,1). How to compute the sum of of the p matrix products at once? (result has shape (n,1)) (★★★)"
   ]
  },
  {
   "cell_type": "code",
   "execution_count": 189,
   "id": "32fd2c3b",
   "metadata": {},
   "outputs": [
    {
     "data": {
      "text/plain": [
       "array([[200.],\n",
       "       [200.],\n",
       "       [200.],\n",
       "       [200.],\n",
       "       [200.],\n",
       "       [200.],\n",
       "       [200.],\n",
       "       [200.],\n",
       "       [200.],\n",
       "       [200.],\n",
       "       [200.],\n",
       "       [200.],\n",
       "       [200.],\n",
       "       [200.],\n",
       "       [200.],\n",
       "       [200.],\n",
       "       [200.],\n",
       "       [200.],\n",
       "       [200.],\n",
       "       [200.]])"
      ]
     },
     "execution_count": 189,
     "metadata": {},
     "output_type": "execute_result"
    }
   ],
   "source": [
    "p, n = 10, 20\n",
    "M = np.ones((p,n,n))\n",
    "V = np.ones((p,n,1))\n",
    "S = np.tensordot(M, V, axes=[[0, 2], [0, 1]])\n",
    "S"
   ]
  },
  {
   "cell_type": "markdown",
   "id": "158f9945",
   "metadata": {},
   "source": [
    "#### 87. Consider a 16x16 array, how to get the block-sum (block size is 4x4)? (★★★)"
   ]
  },
  {
   "cell_type": "code",
   "execution_count": 191,
   "id": "5a9b808f",
   "metadata": {},
   "outputs": [
    {
     "data": {
      "text/plain": [
       "array([[16., 16., 16., 16.],\n",
       "       [16., 16., 16., 16.],\n",
       "       [16., 16., 16., 16.],\n",
       "       [16., 16., 16., 16.]])"
      ]
     },
     "execution_count": 191,
     "metadata": {},
     "output_type": "execute_result"
    }
   ],
   "source": [
    "Z = np.ones((16,16))\n",
    "k = 4\n",
    "windows = np.lib.stride_tricks.sliding_window_view(Z, (k, k))\n",
    "S = windows[::k, ::k, ...].sum(axis=(-2, -1))\n",
    "S"
   ]
  },
  {
   "cell_type": "markdown",
   "id": "2e0ad860",
   "metadata": {},
   "source": [
    "#### 88. How to implement the Game of Life using numpy arrays? (★★★)"
   ]
  },
  {
   "cell_type": "code",
   "execution_count": 195,
   "id": "574acff5",
   "metadata": {},
   "outputs": [],
   "source": [
    "def iterate(Z):\n",
    "    N = (Z[0:-2,0:-2] + Z[0:-2,1:-1] + Z[0:-2,2:] +\n",
    "         Z[1:-1,0:-2]                + Z[1:-1,2:] +\n",
    "         Z[2:  ,0:-2] + Z[2:  ,1:-1] + Z[2:  ,2:])\n",
    "\n",
    "    birth = (N==3) & (Z[1:-1,1:-1]==0)\n",
    "    survive = ((N==2) | (N==3)) & (Z[1:-1,1:-1]==1)\n",
    "    Z[...] = 0\n",
    "    Z[1:-1,1:-1][birth | survive] = 1\n",
    "    return Z\n",
    "\n",
    "Z = np.random.randint(0,2,(10, 10))\n",
    "for i in range(100): \n",
    "    Z = iterate(Z)"
   ]
  },
  {
   "cell_type": "markdown",
   "id": "69a892fa",
   "metadata": {},
   "source": [
    "#### 89. How to get the n largest values of an array (★★★)"
   ]
  },
  {
   "cell_type": "code",
   "execution_count": 196,
   "id": "21b2bd48",
   "metadata": {},
   "outputs": [
    {
     "data": {
      "text/plain": [
       "array([9995, 9996, 9997, 9998, 9999])"
      ]
     },
     "execution_count": 196,
     "metadata": {},
     "output_type": "execute_result"
    }
   ],
   "source": [
    "Z = np.arange(10000)\n",
    "np.random.shuffle(Z)\n",
    "n = 5\n",
    "Z[np.argsort(Z)[-n:]]"
   ]
  },
  {
   "cell_type": "markdown",
   "id": "b55ccacc",
   "metadata": {},
   "source": [
    "#### 90. Given an arbitrary number of vectors, build the cartesian product (every combinations of every item) (★★★)"
   ]
  },
  {
   "cell_type": "code",
   "execution_count": 197,
   "id": "4b645da4",
   "metadata": {},
   "outputs": [
    {
     "data": {
      "text/plain": [
       "array([[1, 4, 6],\n",
       "       [1, 4, 7],\n",
       "       [1, 5, 6],\n",
       "       [1, 5, 7],\n",
       "       [2, 4, 6],\n",
       "       [2, 4, 7],\n",
       "       [2, 5, 6],\n",
       "       [2, 5, 7],\n",
       "       [3, 4, 6],\n",
       "       [3, 4, 7],\n",
       "       [3, 5, 6],\n",
       "       [3, 5, 7]])"
      ]
     },
     "execution_count": 197,
     "metadata": {},
     "output_type": "execute_result"
    }
   ],
   "source": [
    "def cartesian(arrays):\n",
    "    arrays = [np.asarray(a) for a in arrays]\n",
    "    shape = (len(x) for x in arrays)\n",
    "    ix = np.indices(shape, dtype=int)\n",
    "    ix = ix.reshape(len(arrays), -1).T\n",
    "    for n, arr in enumerate(arrays):\n",
    "        ix[:, n] = arrays[n][ix[:, n]]\n",
    "    return ix\n",
    "\n",
    "cartesian(([1, 2, 3], [4, 5], [6, 7]))"
   ]
  },
  {
   "cell_type": "markdown",
   "id": "89187a23",
   "metadata": {},
   "source": [
    "#### 91. How to create a record array from a regular array? (★★★)"
   ]
  },
  {
   "cell_type": "code",
   "execution_count": 198,
   "id": "da94c71a",
   "metadata": {},
   "outputs": [
    {
     "data": {
      "text/plain": [
       "rec.array([(b'Hello', 2.5, 3), (b'World', 3.6, 2)],\n",
       "          dtype=[('col1', 'S8'), ('col2', '<f8'), ('col3', '<i8')])"
      ]
     },
     "execution_count": 198,
     "metadata": {},
     "output_type": "execute_result"
    }
   ],
   "source": [
    "Z = np.array([(\"Hello\", 2.5, 3),\n",
    "              (\"World\", 3.6, 2)])\n",
    "R = np.core.records.fromarrays(Z.T,\n",
    "                               names='col1, col2, col3',\n",
    "                               formats = 'S8, f8, i8')\n",
    "R"
   ]
  },
  {
   "cell_type": "markdown",
   "id": "aa70d4ca",
   "metadata": {},
   "source": [
    "#### 92. Consider a large vector Z, compute Z to the power of 3 using 3 different methods (★★★)"
   ]
  },
  {
   "cell_type": "code",
   "execution_count": 199,
   "id": "7cff1bf5",
   "metadata": {},
   "outputs": [
    {
     "data": {
      "text/plain": [
       "(array([0.11395017, 0.29248194, 0.02095637, ..., 0.74688658, 0.24863519,\n",
       "        0.74944299]),\n",
       " array([0.11395017, 0.29248194, 0.02095637, ..., 0.74688658, 0.24863519,\n",
       "        0.74944299]),\n",
       " array([0.11395017, 0.29248194, 0.02095637, ..., 0.74688658, 0.24863519,\n",
       "        0.74944299]))"
      ]
     },
     "execution_count": 199,
     "metadata": {},
     "output_type": "execute_result"
    }
   ],
   "source": [
    "x = np.random.rand(int(5e7))\n",
    "\n",
    "(\n",
    "    np.power(x,3),\n",
    "    x*x*x,\n",
    "    np.einsum('i,i,i->i',x,x,x),\n",
    ")"
   ]
  },
  {
   "cell_type": "markdown",
   "id": "5f79dd00",
   "metadata": {},
   "source": [
    "#### 93. Consider two arrays A and B of shape (8,3) and (2,2). How to find rows of A that contain elements of each row of B regardless of the order of the elements in B? (★★★)"
   ]
  },
  {
   "cell_type": "code",
   "execution_count": 200,
   "id": "20c105b2",
   "metadata": {},
   "outputs": [
    {
     "data": {
      "text/plain": [
       "array([0, 2, 7])"
      ]
     },
     "execution_count": 200,
     "metadata": {},
     "output_type": "execute_result"
    }
   ],
   "source": [
    "A = np.random.randint(0,5,(8,3))\n",
    "B = np.random.randint(0,5,(2,2))\n",
    "C = (A[..., np.newaxis, np.newaxis] == B)\n",
    "np.where(C.any((3,1)).all(1))[0]"
   ]
  },
  {
   "cell_type": "markdown",
   "id": "a80570cd",
   "metadata": {},
   "source": [
    "#### 94. Considering a 10x3 matrix, extract rows with unequal values (e.g. [2,2,3]) (★★★)"
   ]
  },
  {
   "cell_type": "code",
   "execution_count": 201,
   "id": "84db8de1",
   "metadata": {},
   "outputs": [
    {
     "data": {
      "text/plain": [
       "array([[4, 0, 1],\n",
       "       [2, 4, 4],\n",
       "       [4, 3, 3],\n",
       "       [3, 2, 4],\n",
       "       [0, 2, 0],\n",
       "       [1, 2, 1],\n",
       "       [2, 4, 4],\n",
       "       [4, 3, 0],\n",
       "       [4, 1, 0]])"
      ]
     },
     "execution_count": 201,
     "metadata": {},
     "output_type": "execute_result"
    }
   ],
   "source": [
    "Z = np.random.randint(0,5,(10,3))\n",
    "E = np.all(Z[:,1:] == Z[:,:-1], axis=1)\n",
    "U = Z[~E]\n",
    "U"
   ]
  },
  {
   "cell_type": "markdown",
   "id": "ba154f43",
   "metadata": {},
   "source": [
    "#### 95. Convert a vector of ints into a matrix binary representation (★★★)"
   ]
  },
  {
   "cell_type": "code",
   "execution_count": 202,
   "id": "cfa96e1b",
   "metadata": {},
   "outputs": [
    {
     "data": {
      "text/plain": [
       "array([[0, 0, 0, 0, 0, 0, 0, 0],\n",
       "       [0, 0, 0, 0, 0, 0, 0, 1],\n",
       "       [0, 0, 0, 0, 0, 0, 1, 0],\n",
       "       [0, 0, 0, 0, 0, 0, 1, 1],\n",
       "       [0, 0, 0, 0, 1, 1, 1, 1],\n",
       "       [0, 0, 0, 1, 0, 0, 0, 0],\n",
       "       [0, 0, 1, 0, 0, 0, 0, 0],\n",
       "       [0, 1, 0, 0, 0, 0, 0, 0],\n",
       "       [1, 0, 0, 0, 0, 0, 0, 0]], dtype=uint8)"
      ]
     },
     "execution_count": 202,
     "metadata": {},
     "output_type": "execute_result"
    }
   ],
   "source": [
    "I = np.array([0, 1, 2, 3, 15, 16, 32, 64, 128])\n",
    "B = ((I.reshape(-1,1) & (2**np.arange(8))) != 0).astype(int)\n",
    "I = np.array([0, 1, 2, 3, 15, 16, 32, 64, 128], dtype=np.uint8)\n",
    "np.unpackbits(I[:, np.newaxis], axis=1)"
   ]
  },
  {
   "cell_type": "markdown",
   "id": "420e2343",
   "metadata": {},
   "source": [
    "#### 96. Given a two dimensional array, how to extract unique rows? (★★★)"
   ]
  },
  {
   "cell_type": "code",
   "execution_count": 203,
   "id": "4680dfd0",
   "metadata": {},
   "outputs": [
    {
     "data": {
      "text/plain": [
       "array([[0, 0, 0],\n",
       "       [0, 1, 0],\n",
       "       [1, 0, 0],\n",
       "       [1, 1, 0],\n",
       "       [1, 1, 1]])"
      ]
     },
     "execution_count": 203,
     "metadata": {},
     "output_type": "execute_result"
    }
   ],
   "source": [
    "Z = np.random.randint(0,2,(6,3))\n",
    "T = np.ascontiguousarray(Z).view(np.dtype((np.void, Z.dtype.itemsize * Z.shape[1])))\n",
    "_, idx = np.unique(T, return_index=True)\n",
    "uZ = Z[idx]\n",
    "uZ"
   ]
  },
  {
   "cell_type": "markdown",
   "id": "89fef2f3",
   "metadata": {},
   "source": [
    "#### 97. Considering 2 vectors A & B, write the einsum equivalent of inner, outer, sum, and mul function (★★★)"
   ]
  },
  {
   "cell_type": "code",
   "execution_count": 204,
   "id": "bb9c14b2",
   "metadata": {},
   "outputs": [
    {
     "data": {
      "text/plain": [
       "array([[0.39848774, 0.22155122, 0.36354927, 0.14375581, 0.22410641,\n",
       "        0.38470819, 0.19517063, 0.01528993, 0.49755952, 0.34846148],\n",
       "       [0.59321867, 0.32981773, 0.54120665, 0.21400566, 0.33362157,\n",
       "        0.5727054 , 0.2905456 , 0.02276174, 0.74070434, 0.51874584],\n",
       "       [0.06106266, 0.03394962, 0.05570883, 0.02202856, 0.03434117,\n",
       "        0.05895114, 0.02990716, 0.00234297, 0.07624402, 0.05339684],\n",
       "       [0.54681931, 0.30402061, 0.49887548, 0.19726693, 0.30752693,\n",
       "        0.52791051, 0.26782021, 0.0209814 , 0.6827692 , 0.47817147],\n",
       "       [0.24952137, 0.1387289 , 0.22764392, 0.09001568, 0.14032888,\n",
       "        0.24089302, 0.12221014, 0.00957411, 0.31155722, 0.21819639],\n",
       "       [0.42204852, 0.23465055, 0.3850443 , 0.15225544, 0.23735681,\n",
       "        0.40745425, 0.20671019, 0.01619396, 0.52697798, 0.36906444],\n",
       "       [0.4563681 , 0.25373155, 0.41635482, 0.16463635, 0.25665787,\n",
       "        0.44058707, 0.22351917, 0.0175108 , 0.56983007, 0.39907553],\n",
       "       [0.45152304, 0.25103779, 0.41193456, 0.16288848, 0.25393305,\n",
       "        0.43590955, 0.22114616, 0.01732489, 0.56378043, 0.39483871],\n",
       "       [0.1977047 , 0.10991986, 0.18037042, 0.07132264, 0.11118759,\n",
       "        0.19086815, 0.09683146, 0.00758591, 0.24685792, 0.1728848 ],\n",
       "       [0.58280539, 0.32402815, 0.53170638, 0.21024903, 0.32776522,\n",
       "        0.56265221, 0.2854454 , 0.02236218, 0.72770212, 0.50963984]])"
      ]
     },
     "execution_count": 204,
     "metadata": {},
     "output_type": "execute_result"
    }
   ],
   "source": [
    "A = np.random.uniform(0,1,10)\n",
    "B = np.random.uniform(0,1,10)\n",
    "np.einsum('i->', A)\n",
    "np.einsum('i,i->i', A, B)\n",
    "np.einsum('i,i', A, B)\n",
    "np.einsum('i,j->ij', A, B)"
   ]
  },
  {
   "cell_type": "markdown",
   "id": "7ad5cc5f",
   "metadata": {},
   "source": [
    "#### 98. Considering a path described by two vectors (X,Y), how to sample it using equidistant samples (★★★)?"
   ]
  },
  {
   "cell_type": "code",
   "execution_count": 205,
   "id": "0899d1d5",
   "metadata": {},
   "outputs": [],
   "source": [
    "phi = np.arange(0, 10*np.pi, 0.1)\n",
    "a = 1\n",
    "x = a*phi*np.cos(phi)\n",
    "y = a*phi*np.sin(phi)\n",
    "\n",
    "dr = (np.diff(x)**2 + np.diff(y)**2)**.5\n",
    "r = np.zeros_like(x)\n",
    "r[1:] = np.cumsum(dr)\n",
    "r_int = np.linspace(0, r.max(), 200)\n",
    "x_int = np.interp(r_int, r, x)\n",
    "y_int = np.interp(r_int, r, y)"
   ]
  },
  {
   "cell_type": "markdown",
   "id": "2b69272e",
   "metadata": {},
   "source": [
    "#### 99. Given an integer n and a 2D array X, select from X the rows which can be interpreted as draws from a multinomial distribution with n degrees, i.e., the rows which only contain integers and which sum to n. (★★★)"
   ]
  },
  {
   "cell_type": "code",
   "execution_count": 206,
   "id": "55c8b034",
   "metadata": {},
   "outputs": [
    {
     "name": "stdout",
     "output_type": "stream",
     "text": [
      "[[2. 0. 1. 1.]]\n"
     ]
    }
   ],
   "source": [
    "X = np.asarray([[1.0, 0.0, 3.0, 8.0],\n",
    "                [2.0, 0.0, 1.0, 1.0],\n",
    "                [1.5, 2.5, 1.0, 0.0]])\n",
    "n = 4\n",
    "M = np.logical_and.reduce(np.mod(X, 1) == 0, axis=-1)\n",
    "M &= (X.sum(axis=-1) == n)\n",
    "print(X[M])"
   ]
  },
  {
   "cell_type": "markdown",
   "id": "59ab5516",
   "metadata": {},
   "source": [
    "#### 100. Compute bootstrapped 95% confidence intervals for the mean of a 1D array X (i.e., resample the elements of an array with replacement N times, compute the mean of each sample, and then compute percentiles over the means). (★★★)"
   ]
  },
  {
   "cell_type": "code",
   "execution_count": 208,
   "id": "450877d8",
   "metadata": {},
   "outputs": [
    {
     "name": "stdout",
     "output_type": "stream",
     "text": [
      "[-0.20174643  0.20983531]\n"
     ]
    }
   ],
   "source": [
    "X = np.random.randn(100) # random 1D array\n",
    "N = 1000 # number of bootstrap samples\n",
    "idx = np.random.randint(0, X.size, (N, X.size))\n",
    "means = X[idx].mean(axis=1)\n",
    "confint = np.percentile(means, [2.5, 97.5])\n",
    "print(confint)"
   ]
  },
  {
   "cell_type": "code",
   "execution_count": null,
   "id": "de9bdabb-80c6-4544-b321-787f15769278",
   "metadata": {},
   "outputs": [],
   "source": []
  }
 ],
 "metadata": {
  "kernelspec": {
   "display_name": "Python 3 (ipykernel)",
   "language": "python",
   "name": "python3"
  },
  "language_info": {
   "codemirror_mode": {
    "name": "ipython",
    "version": 3
   },
   "file_extension": ".py",
   "mimetype": "text/x-python",
   "name": "python",
   "nbconvert_exporter": "python",
   "pygments_lexer": "ipython3",
   "version": "3.11.3"
  }
 },
 "nbformat": 4,
 "nbformat_minor": 5
}
